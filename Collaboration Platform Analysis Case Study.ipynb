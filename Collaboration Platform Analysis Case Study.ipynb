{
 "cells": [
  {
   "cell_type": "markdown",
   "metadata": {},
   "source": [
    "# Collaboration Platform Analysis Case Study"
   ]
  },
  {
   "cell_type": "markdown",
   "metadata": {},
   "source": [
    "## By Giang (GiGi) Nguyen"
   ]
  },
  {
   "cell_type": "markdown",
   "metadata": {},
   "source": [
    "This is a case study on collaboration tool company that helps teams or individuals organize, track, and manage their work.\n",
    "\n",
    "\n",
    "The data has the following two files:\n",
    " \n",
    "A user file (\"takehome_users\") with data on 12,000 users who signed up for the product in the last two years. This table includes:\n",
    "\n",
    "- name: the user's name\n",
    "\n",
    "- object_id: the user's id\n",
    "\n",
    "- email: email address\n",
    "\n",
    "- email_domain: domain of email address, e.g. gmail.com\n",
    "\n",
    "- creation_source: how they signed up for the product. This takes on one of 5 values:\n",
    "\n",
    "    - PERSONAL_PROJECTS: invited to join another user's personal workspace\n",
    "\n",
    "    - GUEST_INVITE: invited to an organization as a guest (limited permissions)\n",
    "\n",
    "    - ORG_INVITE: invited to an organization (as a full member)\n",
    "\n",
    "    - SIGNUP: signed up via main website\n",
    "\n",
    "    - SIGNUP_GOOGLE_AUTH: signed up using Google\n",
    "\n",
    "- Authentication (using a Google email account for their login id)\n",
    "\n",
    "- creation_time: when they created their account\n",
    "\n",
    "- last_session_creation_time: unix timestamp of last login\n",
    "\n",
    "- opted_in_to_mailing_list: whether they have opted into receiving marketing emails\n",
    "\n",
    "- enabled_for_marketing_drip: whether they are on the regular marketing email drip\n",
    "\n",
    "- org_id: the organization (group of users) they belong to\n",
    "\n",
    "- invited_by_user_id: which user invited them to join (if applicable).\n",
    " \n",
    "A usage summary file (\"takehome_user_engagement\") that has a row for each day that a user logged into the product.\n",
    "\n",
    "## Case Study\n",
    "\n",
    "For this case study, I will look into user adoption. The company defines an \"adopted user\" as a user who has logged into the product on three separate days in at least one seven-day period. I believe that adopted users are more likely to be successful at using the collaboration tool in the long term than those that are not adopted, so I want to know what things are likely indicators of future adoption. With this in mind, I will identify which factors predict user adoption.\n",
    "\n",
    "My work will focus on improving this experience to increase adoption, so I'd like to know how successful the collaboration tool currently is at getting different types of users to adopt.\n",
    "\n",
    "For the privacy of the data, I will only make the dataset visible in this Jupyter Notebook without posting the actual data on github.\n"
   ]
  },
  {
   "cell_type": "markdown",
   "metadata": {},
   "source": [
    "# Import packages"
   ]
  },
  {
   "cell_type": "code",
   "execution_count": 1,
   "metadata": {},
   "outputs": [],
   "source": [
    "import pandas as pd\n",
    "import numpy as np\n",
    "import matplotlib.pyplot as plt\n",
    "import matplotlib.dates as mdates\n",
    "import seaborn as sns\n",
    "from pandas import DataFrame, Series\n",
    "import datetime as dt\n",
    "import time\n",
    "import pytz\n",
    "\n",
    "sns.set(style=\"white\")\n",
    "sns.set(style=\"whitegrid\", color_codes=True)\n",
    "sns.set_palette(\"husl\")\n"
   ]
  },
  {
   "cell_type": "code",
   "execution_count": 4,
   "metadata": {},
   "outputs": [],
   "source": [
    "#Prophet time-series analysis package\n",
    "from fbprophet import Prophet\n",
    "import datetime\n",
    "from datetime import datetime"
   ]
  },
  {
   "cell_type": "code",
   "execution_count": 5,
   "metadata": {},
   "outputs": [],
   "source": [
    "#Address imbalance data\n",
    "from imblearn.over_sampling import SMOTE"
   ]
  },
  {
   "cell_type": "code",
   "execution_count": 6,
   "metadata": {},
   "outputs": [],
   "source": [
    "#Preprocessing\n",
    "from sklearn import preprocessing\n",
    "from sklearn.model_selection import train_test_split\n",
    "\n",
    "#Gridsearch for hyperparameter tuning\n",
    "from sklearn.model_selection import RandomizedSearchCV\n",
    "from sklearn.model_selection import GridSearchCV"
   ]
  },
  {
   "cell_type": "code",
   "execution_count": 7,
   "metadata": {},
   "outputs": [],
   "source": [
    "#Feature selection\n",
    "from sklearn import datasets\n",
    "from sklearn.feature_selection import RFE\n"
   ]
  },
  {
   "cell_type": "code",
   "execution_count": 8,
   "metadata": {},
   "outputs": [],
   "source": [
    "#Random Forest\n",
    "from sklearn.ensemble import RandomForestClassifier\n",
    "from sklearn import datasets\n",
    "from sklearn.feature_selection import SelectFromModel\n",
    "from sklearn.metrics import accuracy_score\n",
    "from sklearn.ensemble import RandomForestRegressor"
   ]
  },
  {
   "cell_type": "code",
   "execution_count": 9,
   "metadata": {},
   "outputs": [],
   "source": [
    "#XGBoost\n",
    "from numpy import loadtxt\n",
    "from xgboost import XGBClassifier\n",
    "from xgboost import plot_importance\n",
    "from matplotlib import pyplot"
   ]
  },
  {
   "cell_type": "code",
   "execution_count": 10,
   "metadata": {},
   "outputs": [],
   "source": [
    "#logistics regression\n",
    "from sklearn.linear_model import LogisticRegression\n",
    "from sklearn import metrics\n",
    "import statsmodels.api as sm\n",
    "\n",
    "#confusion matrix\n",
    "from sklearn.metrics import confusion_matrix\n"
   ]
  },
  {
   "cell_type": "code",
   "execution_count": 11,
   "metadata": {},
   "outputs": [],
   "source": [
    "#ROC curve\n",
    "from sklearn.metrics import roc_auc_score\n",
    "from sklearn.metrics import roc_curve"
   ]
  },
  {
   "cell_type": "markdown",
   "metadata": {},
   "source": [
    "# Load Data"
   ]
  },
  {
   "cell_type": "code",
   "execution_count": 12,
   "metadata": {},
   "outputs": [],
   "source": [
    "user_cnt = pd.read_csv('takehome_user_engagement-intern.csv',encoding = \"ISO-8859-1\",parse_dates=['time_stamp'])\n",
    "user_eng = pd.read_csv('takehome_users-intern.csv',encoding = \"ISO-8859-1\",parse_dates=['creation_time'])"
   ]
  },
  {
   "cell_type": "code",
   "execution_count": 13,
   "metadata": {},
   "outputs": [
    {
     "name": "stdout",
     "output_type": "stream",
     "text": [
      "<class 'pandas.core.frame.DataFrame'>\n",
      "RangeIndex: 207917 entries, 0 to 207916\n",
      "Data columns (total 3 columns):\n",
      "time_stamp    207917 non-null datetime64[ns]\n",
      "user_id       207917 non-null int64\n",
      "visited       207917 non-null int64\n",
      "dtypes: datetime64[ns](1), int64(2)\n",
      "memory usage: 4.8 MB\n"
     ]
    }
   ],
   "source": [
    "#Info about the takehome_user_engagement-intern.csv data\n",
    "user_cnt.info()"
   ]
  },
  {
   "cell_type": "code",
   "execution_count": 14,
   "metadata": {},
   "outputs": [
    {
     "name": "stdout",
     "output_type": "stream",
     "text": [
      "<class 'pandas.core.frame.DataFrame'>\n",
      "RangeIndex: 12000 entries, 0 to 11999\n",
      "Data columns (total 11 columns):\n",
      "object_id                     12000 non-null int64\n",
      "creation_time                 12000 non-null datetime64[ns]\n",
      "name                          12000 non-null object\n",
      "email                         12000 non-null object\n",
      "creation_source               12000 non-null object\n",
      "last_session_creation_time    8823 non-null float64\n",
      "opted_in_to_mailing_list      12000 non-null int64\n",
      "enabled_for_marketing_drip    12000 non-null int64\n",
      "org_id                        12000 non-null int64\n",
      "invited_by_user_id            6417 non-null float64\n",
      "email_domain                  12000 non-null object\n",
      "dtypes: datetime64[ns](1), float64(2), int64(4), object(4)\n",
      "memory usage: 1.0+ MB\n"
     ]
    }
   ],
   "source": [
    "#Info about the takehome_users-intern.csv data\n",
    "user_eng.info()"
   ]
  },
  {
   "cell_type": "code",
   "execution_count": 15,
   "metadata": {},
   "outputs": [
    {
     "data": {
      "text/html": [
       "<div>\n",
       "<style scoped>\n",
       "    .dataframe tbody tr th:only-of-type {\n",
       "        vertical-align: middle;\n",
       "    }\n",
       "\n",
       "    .dataframe tbody tr th {\n",
       "        vertical-align: top;\n",
       "    }\n",
       "\n",
       "    .dataframe thead th {\n",
       "        text-align: right;\n",
       "    }\n",
       "</style>\n",
       "<table border=\"1\" class=\"dataframe\">\n",
       "  <thead>\n",
       "    <tr style=\"text-align: right;\">\n",
       "      <th></th>\n",
       "      <th>time_stamp</th>\n",
       "      <th>user_id</th>\n",
       "      <th>visited</th>\n",
       "    </tr>\n",
       "  </thead>\n",
       "  <tbody>\n",
       "    <tr>\n",
       "      <td>0</td>\n",
       "      <td>2014-04-22 03:53:30</td>\n",
       "      <td>1</td>\n",
       "      <td>1</td>\n",
       "    </tr>\n",
       "    <tr>\n",
       "      <td>1</td>\n",
       "      <td>2013-11-15 03:45:04</td>\n",
       "      <td>2</td>\n",
       "      <td>1</td>\n",
       "    </tr>\n",
       "    <tr>\n",
       "      <td>2</td>\n",
       "      <td>2013-11-29 03:45:04</td>\n",
       "      <td>2</td>\n",
       "      <td>1</td>\n",
       "    </tr>\n",
       "    <tr>\n",
       "      <td>3</td>\n",
       "      <td>2013-12-09 03:45:04</td>\n",
       "      <td>2</td>\n",
       "      <td>1</td>\n",
       "    </tr>\n",
       "    <tr>\n",
       "      <td>4</td>\n",
       "      <td>2013-12-25 03:45:04</td>\n",
       "      <td>2</td>\n",
       "      <td>1</td>\n",
       "    </tr>\n",
       "  </tbody>\n",
       "</table>\n",
       "</div>"
      ],
      "text/plain": [
       "           time_stamp  user_id  visited\n",
       "0 2014-04-22 03:53:30        1        1\n",
       "1 2013-11-15 03:45:04        2        1\n",
       "2 2013-11-29 03:45:04        2        1\n",
       "3 2013-12-09 03:45:04        2        1\n",
       "4 2013-12-25 03:45:04        2        1"
      ]
     },
     "execution_count": 15,
     "metadata": {},
     "output_type": "execute_result"
    }
   ],
   "source": [
    "#Take a brief look at first 5 rows of the dataframe user_cnt\n",
    "user_cnt.head()"
   ]
  },
  {
   "cell_type": "code",
   "execution_count": 16,
   "metadata": {},
   "outputs": [
    {
     "data": {
      "text/html": [
       "<div>\n",
       "<style scoped>\n",
       "    .dataframe tbody tr th:only-of-type {\n",
       "        vertical-align: middle;\n",
       "    }\n",
       "\n",
       "    .dataframe tbody tr th {\n",
       "        vertical-align: top;\n",
       "    }\n",
       "\n",
       "    .dataframe thead th {\n",
       "        text-align: right;\n",
       "    }\n",
       "</style>\n",
       "<table border=\"1\" class=\"dataframe\">\n",
       "  <thead>\n",
       "    <tr style=\"text-align: right;\">\n",
       "      <th></th>\n",
       "      <th>object_id</th>\n",
       "      <th>creation_time</th>\n",
       "      <th>name</th>\n",
       "      <th>email</th>\n",
       "      <th>creation_source</th>\n",
       "      <th>last_session_creation_time</th>\n",
       "      <th>opted_in_to_mailing_list</th>\n",
       "      <th>enabled_for_marketing_drip</th>\n",
       "      <th>org_id</th>\n",
       "      <th>invited_by_user_id</th>\n",
       "      <th>email_domain</th>\n",
       "    </tr>\n",
       "  </thead>\n",
       "  <tbody>\n",
       "    <tr>\n",
       "      <td>3860</td>\n",
       "      <td>3861</td>\n",
       "      <td>2012-05-31 00:43:27</td>\n",
       "      <td>Jensen Stine</td>\n",
       "      <td>StineAJensen@yahoo.com</td>\n",
       "      <td>ORG_INVITE</td>\n",
       "      <td>1.338684e+09</td>\n",
       "      <td>0</td>\n",
       "      <td>0</td>\n",
       "      <td>115</td>\n",
       "      <td>3861.0</td>\n",
       "      <td>yahoo.com</td>\n",
       "    </tr>\n",
       "    <tr>\n",
       "      <td>11429</td>\n",
       "      <td>11430</td>\n",
       "      <td>2012-05-31 01:42:31</td>\n",
       "      <td>Wood Levi</td>\n",
       "      <td>LeviWood@hotmail.com</td>\n",
       "      <td>ORG_INVITE</td>\n",
       "      <td>1.338515e+09</td>\n",
       "      <td>0</td>\n",
       "      <td>0</td>\n",
       "      <td>239</td>\n",
       "      <td>5677.0</td>\n",
       "      <td>hotmail.com</td>\n",
       "    </tr>\n",
       "    <tr>\n",
       "      <td>7169</td>\n",
       "      <td>7170</td>\n",
       "      <td>2012-05-31 06:23:51</td>\n",
       "      <td>Cavalcanti Leonardo</td>\n",
       "      <td>LeonardoPereiraCavalcanti@hotmail.com</td>\n",
       "      <td>ORG_INVITE</td>\n",
       "      <td>1.345444e+09</td>\n",
       "      <td>0</td>\n",
       "      <td>0</td>\n",
       "      <td>145</td>\n",
       "      <td>7170.0</td>\n",
       "      <td>hotmail.com</td>\n",
       "    </tr>\n",
       "    <tr>\n",
       "      <td>10011</td>\n",
       "      <td>10012</td>\n",
       "      <td>2012-05-31 08:20:06</td>\n",
       "      <td>Spikes Danille</td>\n",
       "      <td>DanilleJSpikes@hotmail.com</td>\n",
       "      <td>ORG_INVITE</td>\n",
       "      <td>1.338452e+09</td>\n",
       "      <td>0</td>\n",
       "      <td>1</td>\n",
       "      <td>225</td>\n",
       "      <td>7104.0</td>\n",
       "      <td>hotmail.com</td>\n",
       "    </tr>\n",
       "    <tr>\n",
       "      <td>11998</td>\n",
       "      <td>11999</td>\n",
       "      <td>2012-05-31 11:55:59</td>\n",
       "      <td>Faber Annett</td>\n",
       "      <td>mhaerzxp@iuxiw.com</td>\n",
       "      <td>PERSONAL_PROJECTS</td>\n",
       "      <td>1.338638e+09</td>\n",
       "      <td>0</td>\n",
       "      <td>0</td>\n",
       "      <td>6</td>\n",
       "      <td>NaN</td>\n",
       "      <td>iuxiw.com</td>\n",
       "    </tr>\n",
       "  </tbody>\n",
       "</table>\n",
       "</div>"
      ],
      "text/plain": [
       "       object_id       creation_time                 name  \\\n",
       "3860        3861 2012-05-31 00:43:27         Jensen Stine   \n",
       "11429      11430 2012-05-31 01:42:31            Wood Levi   \n",
       "7169        7170 2012-05-31 06:23:51  Cavalcanti Leonardo   \n",
       "10011      10012 2012-05-31 08:20:06       Spikes Danille   \n",
       "11998      11999 2012-05-31 11:55:59         Faber Annett   \n",
       "\n",
       "                                       email    creation_source  \\\n",
       "3860                  StineAJensen@yahoo.com         ORG_INVITE   \n",
       "11429                   LeviWood@hotmail.com         ORG_INVITE   \n",
       "7169   LeonardoPereiraCavalcanti@hotmail.com         ORG_INVITE   \n",
       "10011             DanilleJSpikes@hotmail.com         ORG_INVITE   \n",
       "11998                     mhaerzxp@iuxiw.com  PERSONAL_PROJECTS   \n",
       "\n",
       "       last_session_creation_time  opted_in_to_mailing_list  \\\n",
       "3860                 1.338684e+09                         0   \n",
       "11429                1.338515e+09                         0   \n",
       "7169                 1.345444e+09                         0   \n",
       "10011                1.338452e+09                         0   \n",
       "11998                1.338638e+09                         0   \n",
       "\n",
       "       enabled_for_marketing_drip  org_id  invited_by_user_id email_domain  \n",
       "3860                            0     115              3861.0    yahoo.com  \n",
       "11429                           0     239              5677.0  hotmail.com  \n",
       "7169                            0     145              7170.0  hotmail.com  \n",
       "10011                           1     225              7104.0  hotmail.com  \n",
       "11998                           0       6                 NaN    iuxiw.com  "
      ]
     },
     "execution_count": 16,
     "metadata": {},
     "output_type": "execute_result"
    }
   ],
   "source": [
    "#Take a brief look at first 5 rows of the dataframe user_eng\n",
    "user_eng.sort_values(by='creation_time').head()"
   ]
  },
  {
   "cell_type": "markdown",
   "metadata": {},
   "source": [
    "# Data Cleaning and Manipulation"
   ]
  },
  {
   "cell_type": "markdown",
   "metadata": {},
   "source": [
    "### Filter out Adopted Users"
   ]
  },
  {
   "cell_type": "code",
   "execution_count": 17,
   "metadata": {},
   "outputs": [
    {
     "data": {
      "text/html": [
       "<div>\n",
       "<style scoped>\n",
       "    .dataframe tbody tr th:only-of-type {\n",
       "        vertical-align: middle;\n",
       "    }\n",
       "\n",
       "    .dataframe tbody tr th {\n",
       "        vertical-align: top;\n",
       "    }\n",
       "\n",
       "    .dataframe thead th {\n",
       "        text-align: right;\n",
       "    }\n",
       "</style>\n",
       "<table border=\"1\" class=\"dataframe\">\n",
       "  <thead>\n",
       "    <tr style=\"text-align: right;\">\n",
       "      <th></th>\n",
       "      <th>time_stamp</th>\n",
       "      <th>user_id</th>\n",
       "      <th>visited</th>\n",
       "    </tr>\n",
       "  </thead>\n",
       "  <tbody>\n",
       "    <tr>\n",
       "      <td>1</td>\n",
       "      <td>2013-11-15 03:45:04</td>\n",
       "      <td>2</td>\n",
       "      <td>1</td>\n",
       "    </tr>\n",
       "    <tr>\n",
       "      <td>2</td>\n",
       "      <td>2013-11-29 03:45:04</td>\n",
       "      <td>2</td>\n",
       "      <td>1</td>\n",
       "    </tr>\n",
       "    <tr>\n",
       "      <td>3</td>\n",
       "      <td>2013-12-09 03:45:04</td>\n",
       "      <td>2</td>\n",
       "      <td>1</td>\n",
       "    </tr>\n",
       "    <tr>\n",
       "      <td>4</td>\n",
       "      <td>2013-12-25 03:45:04</td>\n",
       "      <td>2</td>\n",
       "      <td>1</td>\n",
       "    </tr>\n",
       "    <tr>\n",
       "      <td>5</td>\n",
       "      <td>2013-12-31 03:45:04</td>\n",
       "      <td>2</td>\n",
       "      <td>1</td>\n",
       "    </tr>\n",
       "  </tbody>\n",
       "</table>\n",
       "</div>"
      ],
      "text/plain": [
       "           time_stamp  user_id  visited\n",
       "1 2013-11-15 03:45:04        2        1\n",
       "2 2013-11-29 03:45:04        2        1\n",
       "3 2013-12-09 03:45:04        2        1\n",
       "4 2013-12-25 03:45:04        2        1\n",
       "5 2013-12-31 03:45:04        2        1"
      ]
     },
     "execution_count": 17,
     "metadata": {},
     "output_type": "execute_result"
    }
   ],
   "source": [
    "#user that have at least 3 logs regardless of the time frame\n",
    "user_cnt_3_log = user_cnt.groupby('user_id').filter(lambda x: len(x) >= 3).sort_values(by=['user_id','time_stamp'])\n",
    "user_cnt_3_log.head()"
   ]
  },
  {
   "cell_type": "code",
   "execution_count": 18,
   "metadata": {},
   "outputs": [],
   "source": [
    "#write the function to filter out only adopted users - users logged in at least 3 separate days within 1 7-day period\n",
    "def adopted_user(duration, logs, user_ids):\n",
    "   \n",
    "    # duration: we will put duration of 7 days in here\n",
    "    # logs: we will put the numbers of logs in here - 3 logs\n",
    "    # user_ids: unique user id\n",
    "\n",
    "    # adopted: boolean value that returns whether or not the user have at least 3 logins within a 7-day period\n",
    "\n",
    "    unique_users = len(user_ids.index) #loop through the user_id\n",
    "    day = 0\n",
    "    user_log = 1\n",
    "    adopted = False\n",
    "\n",
    "    while user_log < logs: #keep iterate if the users loggin is smaller than our 3-log cap\n",
    "        \n",
    "        if (day+2) < unique_users: #this keep iterate for each unique user\n",
    "            \n",
    "            #this statement guarantee the next row is within 7 days and the previous row is within 1 day\n",
    "            if (user_ids['time_stamp'].iloc[day + 1] - user_ids['time_stamp'].iloc[day]) <= pd.Timedelta(days=duration) \\\n",
    "            and (user_ids['time_stamp'].iloc[day + 1] - user_ids['time_stamp'].iloc[day]) > pd.Timedelta(days=1) :\n",
    "                user_log += 1 #log user activity when the users loggin in 2 times\n",
    "                new_timeframe = (user_ids['time_stamp'].iloc[day + 1] - user_ids['time_stamp'].iloc[day])\n",
    "                \n",
    "                #this statement guarantee the next row is within the number of days above and the previous row is within 1 day\n",
    "                if (user_ids['time_stamp'].iloc[day + 2] - user_ids['time_stamp'].iloc[day + 1]) <= new_timeframe \\\n",
    "                and (user_ids['time_stamp'].iloc[day + 2] - user_ids['time_stamp'].iloc[day + 1]) > pd.Timedelta(days=1):\n",
    "                    user_log += 1 #if they log in, user logs will = 3 then we exite the loop\n",
    "                    adopted = True #return true to keep the user that have at least 3 logs\n",
    "                    \n",
    "                else: \n",
    "                    day += 1\n",
    "                    user_log = 1\n",
    "                    \n",
    "            else:\n",
    "                day += 1\n",
    "                user_log = 1\n",
    "                \n",
    "        else:\n",
    "            user_log = logs \n",
    "            \n",
    "    return adopted\n"
   ]
  },
  {
   "cell_type": "code",
   "execution_count": 19,
   "metadata": {},
   "outputs": [],
   "source": [
    "# Group data by user_id to apply the function\n",
    "user_id_group = user_cnt_3_log.groupby('user_id')"
   ]
  },
  {
   "cell_type": "code",
   "execution_count": 20,
   "metadata": {},
   "outputs": [],
   "source": [
    "#apply the function to filter the adopted users\n",
    "adopted_users = user_id_group.filter(lambda x: adopted_user(duration=7, logs=3, user_ids=x) ==True)"
   ]
  },
  {
   "cell_type": "code",
   "execution_count": 21,
   "metadata": {},
   "outputs": [
    {
     "data": {
      "text/html": [
       "<div>\n",
       "<style scoped>\n",
       "    .dataframe tbody tr th:only-of-type {\n",
       "        vertical-align: middle;\n",
       "    }\n",
       "\n",
       "    .dataframe tbody tr th {\n",
       "        vertical-align: top;\n",
       "    }\n",
       "\n",
       "    .dataframe thead th {\n",
       "        text-align: right;\n",
       "    }\n",
       "</style>\n",
       "<table border=\"1\" class=\"dataframe\">\n",
       "  <thead>\n",
       "    <tr style=\"text-align: right;\">\n",
       "      <th></th>\n",
       "      <th>time_stamp</th>\n",
       "      <th>user_id</th>\n",
       "      <th>visited</th>\n",
       "    </tr>\n",
       "  </thead>\n",
       "  <tbody>\n",
       "    <tr>\n",
       "      <td>1</td>\n",
       "      <td>2013-11-15 03:45:04</td>\n",
       "      <td>2</td>\n",
       "      <td>1</td>\n",
       "    </tr>\n",
       "    <tr>\n",
       "      <td>2</td>\n",
       "      <td>2013-11-29 03:45:04</td>\n",
       "      <td>2</td>\n",
       "      <td>1</td>\n",
       "    </tr>\n",
       "    <tr>\n",
       "      <td>3</td>\n",
       "      <td>2013-12-09 03:45:04</td>\n",
       "      <td>2</td>\n",
       "      <td>1</td>\n",
       "    </tr>\n",
       "    <tr>\n",
       "      <td>4</td>\n",
       "      <td>2013-12-25 03:45:04</td>\n",
       "      <td>2</td>\n",
       "      <td>1</td>\n",
       "    </tr>\n",
       "    <tr>\n",
       "      <td>5</td>\n",
       "      <td>2013-12-31 03:45:04</td>\n",
       "      <td>2</td>\n",
       "      <td>1</td>\n",
       "    </tr>\n",
       "  </tbody>\n",
       "</table>\n",
       "</div>"
      ],
      "text/plain": [
       "           time_stamp  user_id  visited\n",
       "1 2013-11-15 03:45:04        2        1\n",
       "2 2013-11-29 03:45:04        2        1\n",
       "3 2013-12-09 03:45:04        2        1\n",
       "4 2013-12-25 03:45:04        2        1\n",
       "5 2013-12-31 03:45:04        2        1"
      ]
     },
     "execution_count": 21,
     "metadata": {},
     "output_type": "execute_result"
    }
   ],
   "source": [
    "#take a quick look at first 5 rows\n",
    "adopted_users.head()"
   ]
  },
  {
   "cell_type": "code",
   "execution_count": 22,
   "metadata": {},
   "outputs": [],
   "source": [
    "#now we want to keep the list of unique id to join into the user_eng dataframe\n",
    "adopted_user_id = pd.DataFrame(adopted_users['user_id'].unique())\n",
    "adopted_user_id.columns = ['user_id']"
   ]
  },
  {
   "cell_type": "code",
   "execution_count": 23,
   "metadata": {},
   "outputs": [
    {
     "data": {
      "text/html": [
       "<div>\n",
       "<style scoped>\n",
       "    .dataframe tbody tr th:only-of-type {\n",
       "        vertical-align: middle;\n",
       "    }\n",
       "\n",
       "    .dataframe tbody tr th {\n",
       "        vertical-align: top;\n",
       "    }\n",
       "\n",
       "    .dataframe thead th {\n",
       "        text-align: right;\n",
       "    }\n",
       "</style>\n",
       "<table border=\"1\" class=\"dataframe\">\n",
       "  <thead>\n",
       "    <tr style=\"text-align: right;\">\n",
       "      <th></th>\n",
       "      <th>user_id</th>\n",
       "    </tr>\n",
       "  </thead>\n",
       "  <tbody>\n",
       "    <tr>\n",
       "      <td>0</td>\n",
       "      <td>2</td>\n",
       "    </tr>\n",
       "    <tr>\n",
       "      <td>1</td>\n",
       "      <td>10</td>\n",
       "    </tr>\n",
       "    <tr>\n",
       "      <td>2</td>\n",
       "      <td>33</td>\n",
       "    </tr>\n",
       "    <tr>\n",
       "      <td>3</td>\n",
       "      <td>42</td>\n",
       "    </tr>\n",
       "    <tr>\n",
       "      <td>4</td>\n",
       "      <td>50</td>\n",
       "    </tr>\n",
       "  </tbody>\n",
       "</table>\n",
       "</div>"
      ],
      "text/plain": [
       "   user_id\n",
       "0        2\n",
       "1       10\n",
       "2       33\n",
       "3       42\n",
       "4       50"
      ]
     },
     "execution_count": 23,
     "metadata": {},
     "output_type": "execute_result"
    }
   ],
   "source": [
    "adopted_user_id.head()"
   ]
  },
  {
   "cell_type": "markdown",
   "metadata": {},
   "source": [
    "### After cleaning the data, we will look back with our prompt to answer the right questions. \n",
    "## We will be looking into these 2 analysis:\n",
    "- General behavior of adopted users: We will measure the stickiness - DAU/MAU* ratio of these adopted users over time\n",
    "- Best predictors for adopted users\n",
    "\n",
    "DAU: Daily Active Users*\n",
    "\n",
    "MAU: Monthly Active Users*"
   ]
  },
  {
   "cell_type": "markdown",
   "metadata": {},
   "source": [
    "# Exploratory Data Analysis"
   ]
  },
  {
   "cell_type": "markdown",
   "metadata": {},
   "source": [
    "## 1) Stickiness (DAU/MAU) of adopted users over time"
   ]
  },
  {
   "cell_type": "markdown",
   "metadata": {},
   "source": [
    "### a. Caculate Daily Active Users:"
   ]
  },
  {
   "cell_type": "code",
   "execution_count": 24,
   "metadata": {},
   "outputs": [
    {
     "data": {
      "text/html": [
       "<div>\n",
       "<style scoped>\n",
       "    .dataframe tbody tr th:only-of-type {\n",
       "        vertical-align: middle;\n",
       "    }\n",
       "\n",
       "    .dataframe tbody tr th {\n",
       "        vertical-align: top;\n",
       "    }\n",
       "\n",
       "    .dataframe thead th {\n",
       "        text-align: right;\n",
       "    }\n",
       "</style>\n",
       "<table border=\"1\" class=\"dataframe\">\n",
       "  <thead>\n",
       "    <tr style=\"text-align: right;\">\n",
       "      <th></th>\n",
       "      <th>visited</th>\n",
       "    </tr>\n",
       "    <tr>\n",
       "      <th>time_stamp</th>\n",
       "      <th></th>\n",
       "    </tr>\n",
       "  </thead>\n",
       "  <tbody>\n",
       "    <tr>\n",
       "      <td>2012-05-31</td>\n",
       "      <td>2</td>\n",
       "    </tr>\n",
       "    <tr>\n",
       "      <td>2012-06-01</td>\n",
       "      <td>1</td>\n",
       "    </tr>\n",
       "    <tr>\n",
       "      <td>2012-06-02</td>\n",
       "      <td>1</td>\n",
       "    </tr>\n",
       "    <tr>\n",
       "      <td>2012-06-03</td>\n",
       "      <td>2</td>\n",
       "    </tr>\n",
       "    <tr>\n",
       "      <td>2012-06-04</td>\n",
       "      <td>2</td>\n",
       "    </tr>\n",
       "  </tbody>\n",
       "</table>\n",
       "</div>"
      ],
      "text/plain": [
       "            visited\n",
       "time_stamp         \n",
       "2012-05-31        2\n",
       "2012-06-01        1\n",
       "2012-06-02        1\n",
       "2012-06-03        2\n",
       "2012-06-04        2"
      ]
     },
     "execution_count": 24,
     "metadata": {},
     "output_type": "execute_result"
    }
   ],
   "source": [
    "#copy the original dataframe\n",
    "adopted_users1 = adopted_users.copy()\n",
    "\n",
    "#truncate date time data to 'date'\n",
    "adopted_users1['time_stamp'] = adopted_users1['time_stamp'].dt.floor('d')\n",
    "adopted_users1['time_stamp'] = pd.to_datetime(adopted_users1['time_stamp'])\n",
    "\n",
    "#Calculate the sum of logs by each date\n",
    "adopted_users2 = adopted_users1[['time_stamp','visited']].groupby('time_stamp').sum()\n",
    "adopted_users2.head()"
   ]
  },
  {
   "cell_type": "code",
   "execution_count": 25,
   "metadata": {},
   "outputs": [],
   "source": [
    "#prepareing data for plotting, since there were some outliers in the datetime, we will only keep the time frame that is cohorent with the analysis\n",
    "adopted_users2 = adopted_users2.reset_index()\n",
    "adopted_users2 = adopted_users2.loc[adopted_users2['time_stamp'] > '2012-05-01']\n",
    "adopted_users2 = adopted_users2.loc[adopted_users2['time_stamp'] < '2014-05-01']\n",
    "adopted_users2 = adopted_users2.set_index('time_stamp')"
   ]
  },
  {
   "cell_type": "code",
   "execution_count": 26,
   "metadata": {},
   "outputs": [
    {
     "name": "stderr",
     "output_type": "stream",
     "text": [
      "WARNING:matplotlib.legend:No handles with labels found to put in legend.\n"
     ]
    },
    {
     "data": {
      "text/plain": [
       "Text(0.5, 1.0, 'Number of DAU over time')"
      ]
     },
     "execution_count": 26,
     "metadata": {},
     "output_type": "execute_result"
    },
    {
     "data": {
      "image/png": "[encoded data removed]",
      "text/plain": [
       "<Figure size 1080x504 with 1 Axes>"
      ]
     },
     "metadata": {},
     "output_type": "display_data"
    }
   ],
   "source": [
    "#make a line plot to see the trend of DAU over time\n",
    "sns.set(rc={'figure.figsize':(15, 7)})\n",
    "\n",
    "fig, ax = plt.subplots()\n",
    "\n",
    "\n",
    "ax.plot(adopted_users2['visited'],linewidth=2, color= \"salmon\")\n",
    "\n",
    "\n",
    "# Set x-ticks to yearly interval and add legend and labels\n",
    "ax.xaxis.set_major_formatter(mdates.DateFormatter('%b %d %Y'))\n",
    "ax.legend()\n",
    "ax.set_xlabel('Date')\n",
    "ax.set_ylabel('DAU')\n",
    "ax.set_title('Number of DAU over time')"
   ]
  },
  {
   "cell_type": "markdown",
   "metadata": {},
   "source": [
    "We see a significant increase in DAU over 2 years period"
   ]
  },
  {
   "cell_type": "markdown",
   "metadata": {},
   "source": [
    "### b. Caculate Monthly Active Users:"
   ]
  },
  {
   "cell_type": "code",
   "execution_count": 27,
   "metadata": {},
   "outputs": [
    {
     "data": {
      "text/html": [
       "<div>\n",
       "<style scoped>\n",
       "    .dataframe tbody tr th:only-of-type {\n",
       "        vertical-align: middle;\n",
       "    }\n",
       "\n",
       "    .dataframe tbody tr th {\n",
       "        vertical-align: top;\n",
       "    }\n",
       "\n",
       "    .dataframe thead th {\n",
       "        text-align: right;\n",
       "    }\n",
       "</style>\n",
       "<table border=\"1\" class=\"dataframe\">\n",
       "  <thead>\n",
       "    <tr style=\"text-align: right;\">\n",
       "      <th></th>\n",
       "      <th>visited</th>\n",
       "    </tr>\n",
       "    <tr>\n",
       "      <th>time_stamp</th>\n",
       "      <th></th>\n",
       "    </tr>\n",
       "  </thead>\n",
       "  <tbody>\n",
       "    <tr>\n",
       "      <td>2012-05</td>\n",
       "      <td>2</td>\n",
       "    </tr>\n",
       "    <tr>\n",
       "      <td>2012-06</td>\n",
       "      <td>154</td>\n",
       "    </tr>\n",
       "    <tr>\n",
       "      <td>2012-07</td>\n",
       "      <td>432</td>\n",
       "    </tr>\n",
       "    <tr>\n",
       "      <td>2012-08</td>\n",
       "      <td>757</td>\n",
       "    </tr>\n",
       "    <tr>\n",
       "      <td>2012-09</td>\n",
       "      <td>1211</td>\n",
       "    </tr>\n",
       "  </tbody>\n",
       "</table>\n",
       "</div>"
      ],
      "text/plain": [
       "            visited\n",
       "time_stamp         \n",
       "2012-05           2\n",
       "2012-06         154\n",
       "2012-07         432\n",
       "2012-08         757\n",
       "2012-09        1211"
      ]
     },
     "execution_count": 27,
     "metadata": {},
     "output_type": "execute_result"
    }
   ],
   "source": [
    "#copy the original dataframe\n",
    "adopted_users3 = adopted_users.copy()\n",
    "\n",
    "#truncate date time data to 'month - year'\n",
    "adopted_users3['time_stamp'] = pd.to_datetime(adopted_users3['time_stamp']).dt.to_period('M')\n",
    "adopted_users4 = adopted_users3[['time_stamp','visited']].groupby('time_stamp').sum()\n",
    "\n",
    "#take a quick look of first 5 row\n",
    "adopted_users4.head()"
   ]
  },
  {
   "cell_type": "code",
   "execution_count": 28,
   "metadata": {},
   "outputs": [],
   "source": [
    "#convert periodtime datatype to datetime64\n",
    "adopted_users4.index = adopted_users4.index.values.astype('datetime64[M]')\n",
    "adopted_users4.index.name = 'time_stamp'"
   ]
  },
  {
   "cell_type": "code",
   "execution_count": 29,
   "metadata": {},
   "outputs": [],
   "source": [
    "#prepareing data for plotting, since there were some outliers in the datetime, we will only keep the time frame that is cohorent with the analysis\n",
    "adopted_users4 = adopted_users4.reset_index()\n",
    "adopted_users4 = adopted_users4.loc[adopted_users4['time_stamp'] > '2012-05-01']\n",
    "adopted_users4 = adopted_users4.loc[adopted_users4['time_stamp'] < '2014-05-01']\n",
    "adopted_users4 = adopted_users4.set_index('time_stamp')"
   ]
  },
  {
   "cell_type": "code",
   "execution_count": 30,
   "metadata": {},
   "outputs": [
    {
     "data": {
      "text/plain": [
       "Text(0.5, 1.0, 'Number of MAU over time')"
      ]
     },
     "execution_count": 30,
     "metadata": {},
     "output_type": "execute_result"
    },
    {
     "data": {
      "image/png": "[encoded data removed]",
      "text/plain": [
       "<Figure size 1080x504 with 1 Axes>"
      ]
     },
     "metadata": {},
     "output_type": "display_data"
    }
   ],
   "source": [
    "#make a line plot to see the trend of MAU over time\n",
    "fig, ax = plt.subplots()\n",
    "\n",
    "\n",
    "ax.plot(adopted_users4['visited'],linewidth=2, label='MAU', color= \"salmon\")\n",
    "\n",
    "\n",
    "# Set x-ticks to yearly interval and add legend and labels\n",
    "ax.xaxis.set_major_formatter(mdates.DateFormatter('%b %Y'))\n",
    "ax.legend()\n",
    "ax.set_xlabel('Date')\n",
    "ax.set_ylabel('MAU')\n",
    "ax.set_title('Number of MAU over time')"
   ]
  },
  {
   "cell_type": "markdown",
   "metadata": {},
   "source": [
    "We see a significant increase in MAU over 2 years period"
   ]
  },
  {
   "cell_type": "markdown",
   "metadata": {},
   "source": [
    "#### Let's take this a little bit further:\n",
    "We want to see the MoM growth rate of adopted users to see if this is an actual increase or just relative over time based on the growth in new users"
   ]
  },
  {
   "cell_type": "code",
   "execution_count": 31,
   "metadata": {},
   "outputs": [
    {
     "name": "stderr",
     "output_type": "stream",
     "text": [
      "INFO:numexpr.utils:NumExpr defaulting to 8 threads.\n"
     ]
    },
    {
     "data": {
      "text/html": [
       "<div>\n",
       "<style scoped>\n",
       "    .dataframe tbody tr th:only-of-type {\n",
       "        vertical-align: middle;\n",
       "    }\n",
       "\n",
       "    .dataframe tbody tr th {\n",
       "        vertical-align: top;\n",
       "    }\n",
       "\n",
       "    .dataframe thead th {\n",
       "        text-align: right;\n",
       "    }\n",
       "</style>\n",
       "<table border=\"1\" class=\"dataframe\">\n",
       "  <thead>\n",
       "    <tr style=\"text-align: right;\">\n",
       "      <th></th>\n",
       "      <th>visited</th>\n",
       "      <th>lag</th>\n",
       "      <th>MoM</th>\n",
       "    </tr>\n",
       "    <tr>\n",
       "      <th>time_stamp</th>\n",
       "      <th></th>\n",
       "      <th></th>\n",
       "      <th></th>\n",
       "    </tr>\n",
       "  </thead>\n",
       "  <tbody>\n",
       "    <tr>\n",
       "      <td>2012-07-01</td>\n",
       "      <td>432</td>\n",
       "      <td>154.0</td>\n",
       "      <td>278.0</td>\n",
       "    </tr>\n",
       "    <tr>\n",
       "      <td>2012-08-01</td>\n",
       "      <td>757</td>\n",
       "      <td>432.0</td>\n",
       "      <td>325.0</td>\n",
       "    </tr>\n",
       "    <tr>\n",
       "      <td>2012-09-01</td>\n",
       "      <td>1211</td>\n",
       "      <td>757.0</td>\n",
       "      <td>454.0</td>\n",
       "    </tr>\n",
       "    <tr>\n",
       "      <td>2012-10-01</td>\n",
       "      <td>1928</td>\n",
       "      <td>1211.0</td>\n",
       "      <td>717.0</td>\n",
       "    </tr>\n",
       "    <tr>\n",
       "      <td>2012-11-01</td>\n",
       "      <td>2323</td>\n",
       "      <td>1928.0</td>\n",
       "      <td>395.0</td>\n",
       "    </tr>\n",
       "  </tbody>\n",
       "</table>\n",
       "</div>"
      ],
      "text/plain": [
       "            visited     lag    MoM\n",
       "time_stamp                        \n",
       "2012-07-01      432   154.0  278.0\n",
       "2012-08-01      757   432.0  325.0\n",
       "2012-09-01     1211   757.0  454.0\n",
       "2012-10-01     1928  1211.0  717.0\n",
       "2012-11-01     2323  1928.0  395.0"
      ]
     },
     "execution_count": 31,
     "metadata": {},
     "output_type": "execute_result"
    }
   ],
   "source": [
    "adopted_users_lag = adopted_users4.copy()\n",
    "adopted_users_lag['lag'] = adopted_users_lag.shift(1, axis = 0) \n",
    "adopted_users_lag['MoM'] = adopted_users_lag['visited'] - adopted_users_lag['lag']\n",
    "adopted_users_lag = adopted_users_lag.dropna()\n",
    "adopted_users_lag.head()"
   ]
  },
  {
   "cell_type": "code",
   "execution_count": 32,
   "metadata": {},
   "outputs": [
    {
     "data": {
      "text/plain": [
       "Text(0.5, 1.0, 'MoM over time')"
      ]
     },
     "execution_count": 32,
     "metadata": {},
     "output_type": "execute_result"
    },
    {
     "data": {
      "image/png": "[encoded data removed]",
      "text/plain": [
       "<Figure size 1080x504 with 1 Axes>"
      ]
     },
     "metadata": {},
     "output_type": "display_data"
    }
   ],
   "source": [
    "#make a line plot to see the MoM growth rate of adopted users\n",
    "fig, ax = plt.subplots()\n",
    "\n",
    "\n",
    "ax.plot(adopted_users_lag['MoM'],linewidth=2, label='MoM', color= \"salmon\")\n",
    "\n",
    "\n",
    "# Set x-ticks to yearly interval and add legend and labels\n",
    "ax.xaxis.set_major_formatter(mdates.DateFormatter('%b %Y'))\n",
    "ax.legend()\n",
    "ax.set_xlabel('Date')\n",
    "ax.set_ylabel('MoM')\n",
    "ax.set_title('MoM over time')"
   ]
  },
  {
   "cell_type": "markdown",
   "metadata": {},
   "source": [
    "As we can see, the adopted user MoM growth rate is fluctuate through time, with a little increase. So the upward trend we see can be explained that it is due to the growth of new users!"
   ]
  },
  {
   "cell_type": "code",
   "execution_count": null,
   "metadata": {},
   "outputs": [],
   "source": []
  },
  {
   "cell_type": "markdown",
   "metadata": {},
   "source": [
    "### c) Calculate DAU/MAU ratio"
   ]
  },
  {
   "cell_type": "code",
   "execution_count": 33,
   "metadata": {},
   "outputs": [],
   "source": [
    "#same with MAU, we will create a truncate column of 'Month - Year' in the DAU dataframe to merge the 2\n",
    "adopted_users5 = adopted_users2.copy()\n",
    "adopted_users5 = adopted_users5.reset_index()\n",
    "\n",
    "adopted_users5['month'] = pd.to_datetime(adopted_users5['time_stamp']).dt.to_period('M')\n",
    "adopted_users5['month'] = adopted_users5.month.values.astype('datetime64[M]')\n",
    "\n",
    "#reset index of MAU dataframe to join\n",
    "adopted_users6 = adopted_users4.copy()\n",
    "adopted_users6 = adopted_users6.reset_index()"
   ]
  },
  {
   "cell_type": "code",
   "execution_count": 34,
   "metadata": {},
   "outputs": [
    {
     "data": {
      "text/html": [
       "<div>\n",
       "<style scoped>\n",
       "    .dataframe tbody tr th:only-of-type {\n",
       "        vertical-align: middle;\n",
       "    }\n",
       "\n",
       "    .dataframe tbody tr th {\n",
       "        vertical-align: top;\n",
       "    }\n",
       "\n",
       "    .dataframe thead th {\n",
       "        text-align: right;\n",
       "    }\n",
       "</style>\n",
       "<table border=\"1\" class=\"dataframe\">\n",
       "  <thead>\n",
       "    <tr style=\"text-align: right;\">\n",
       "      <th></th>\n",
       "      <th>time_stamp_x</th>\n",
       "      <th>visited_x</th>\n",
       "      <th>month</th>\n",
       "      <th>time_stamp_y</th>\n",
       "      <th>visited_y</th>\n",
       "    </tr>\n",
       "  </thead>\n",
       "  <tbody>\n",
       "    <tr>\n",
       "      <td>0</td>\n",
       "      <td>2012-06-01</td>\n",
       "      <td>1</td>\n",
       "      <td>2012-06-01</td>\n",
       "      <td>2012-06-01</td>\n",
       "      <td>154</td>\n",
       "    </tr>\n",
       "    <tr>\n",
       "      <td>1</td>\n",
       "      <td>2012-06-02</td>\n",
       "      <td>1</td>\n",
       "      <td>2012-06-01</td>\n",
       "      <td>2012-06-01</td>\n",
       "      <td>154</td>\n",
       "    </tr>\n",
       "    <tr>\n",
       "      <td>2</td>\n",
       "      <td>2012-06-03</td>\n",
       "      <td>2</td>\n",
       "      <td>2012-06-01</td>\n",
       "      <td>2012-06-01</td>\n",
       "      <td>154</td>\n",
       "    </tr>\n",
       "    <tr>\n",
       "      <td>3</td>\n",
       "      <td>2012-06-04</td>\n",
       "      <td>2</td>\n",
       "      <td>2012-06-01</td>\n",
       "      <td>2012-06-01</td>\n",
       "      <td>154</td>\n",
       "    </tr>\n",
       "    <tr>\n",
       "      <td>4</td>\n",
       "      <td>2012-06-05</td>\n",
       "      <td>4</td>\n",
       "      <td>2012-06-01</td>\n",
       "      <td>2012-06-01</td>\n",
       "      <td>154</td>\n",
       "    </tr>\n",
       "  </tbody>\n",
       "</table>\n",
       "</div>"
      ],
      "text/plain": [
       "  time_stamp_x  visited_x      month time_stamp_y  visited_y\n",
       "0   2012-06-01          1 2012-06-01   2012-06-01        154\n",
       "1   2012-06-02          1 2012-06-01   2012-06-01        154\n",
       "2   2012-06-03          2 2012-06-01   2012-06-01        154\n",
       "3   2012-06-04          2 2012-06-01   2012-06-01        154\n",
       "4   2012-06-05          4 2012-06-01   2012-06-01        154"
      ]
     },
     "execution_count": 34,
     "metadata": {},
     "output_type": "execute_result"
    }
   ],
   "source": [
    "#join 2 dataframe by month - year column\n",
    "adopted_join = adopted_users5.merge(adopted_users6, left_on='month', right_on='time_stamp',)\n",
    "\n",
    "#take a quick look at first 5 rows\n",
    "adopted_join.head()"
   ]
  },
  {
   "cell_type": "markdown",
   "metadata": {},
   "source": [
    "#### The ratio of DAU to MAU is the proportion of monthly active users who engage with your product in a single day window."
   ]
  },
  {
   "cell_type": "code",
   "execution_count": 35,
   "metadata": {},
   "outputs": [],
   "source": [
    "#DAU/MAU ratio\n",
    "adopted_join['DAU/MAU'] = (adopted_join['visited_x'] / adopted_join['visited_y'])*100\n",
    "adopted_join.head()\n",
    "\n",
    "#same as before, we will filter out the timeframe that have outliers\n",
    "adopted_join = adopted_join.loc[adopted_join['time_stamp_y'] > '2012-05-01']\n",
    "adopted_join = adopted_join.loc[adopted_join['time_stamp_y'] < '2014-05-01']\n"
   ]
  },
  {
   "cell_type": "code",
   "execution_count": 36,
   "metadata": {},
   "outputs": [
    {
     "name": "stderr",
     "output_type": "stream",
     "text": [
      "/Users/giangnguyen/opt/anaconda3/lib/python3.7/site-packages/ipykernel_launcher.py:6: SettingWithCopyWarning: \n",
      "A value is trying to be set on a copy of a slice from a DataFrame.\n",
      "Try using .loc[row_indexer,col_indexer] = value instead\n",
      "\n",
      "See the caveats in the documentation: http://pandas.pydata.org/pandas-docs/stable/user_guide/indexing.html#returning-a-view-versus-a-copy\n",
      "  \n"
     ]
    },
    {
     "data": {
      "text/html": [
       "<div>\n",
       "<style scoped>\n",
       "    .dataframe tbody tr th:only-of-type {\n",
       "        vertical-align: middle;\n",
       "    }\n",
       "\n",
       "    .dataframe tbody tr th {\n",
       "        vertical-align: top;\n",
       "    }\n",
       "\n",
       "    .dataframe thead th {\n",
       "        text-align: right;\n",
       "    }\n",
       "</style>\n",
       "<table border=\"1\" class=\"dataframe\">\n",
       "  <thead>\n",
       "    <tr style=\"text-align: right;\">\n",
       "      <th></th>\n",
       "      <th>DAU/MAU</th>\n",
       "    </tr>\n",
       "    <tr>\n",
       "      <th>time_stamp_x</th>\n",
       "      <th></th>\n",
       "    </tr>\n",
       "  </thead>\n",
       "  <tbody>\n",
       "    <tr>\n",
       "      <td>2012-06-01</td>\n",
       "      <td>0.649351</td>\n",
       "    </tr>\n",
       "    <tr>\n",
       "      <td>2012-06-02</td>\n",
       "      <td>0.649351</td>\n",
       "    </tr>\n",
       "    <tr>\n",
       "      <td>2012-06-03</td>\n",
       "      <td>1.298701</td>\n",
       "    </tr>\n",
       "    <tr>\n",
       "      <td>2012-06-04</td>\n",
       "      <td>1.298701</td>\n",
       "    </tr>\n",
       "    <tr>\n",
       "      <td>2012-06-05</td>\n",
       "      <td>2.597403</td>\n",
       "    </tr>\n",
       "  </tbody>\n",
       "</table>\n",
       "</div>"
      ],
      "text/plain": [
       "               DAU/MAU\n",
       "time_stamp_x          \n",
       "2012-06-01    0.649351\n",
       "2012-06-02    0.649351\n",
       "2012-06-03    1.298701\n",
       "2012-06-04    1.298701\n",
       "2012-06-05    2.597403"
      ]
     },
     "execution_count": 36,
     "metadata": {},
     "output_type": "execute_result"
    }
   ],
   "source": [
    "#prepare data for plotting\n",
    "\n",
    "#factor out by date and DAU/MAU\n",
    "adopted_join1 = adopted_join[['time_stamp_x','DAU/MAU']]\n",
    "\n",
    "adopted_join1['time_stamp_x'] = pd.to_datetime(adopted_join1['time_stamp_x'])\n",
    "adopted_join1 = adopted_join1.set_index('time_stamp_x')\n",
    "\n",
    "adopted_join1.head()"
   ]
  },
  {
   "cell_type": "code",
   "execution_count": 37,
   "metadata": {},
   "outputs": [
    {
     "data": {
      "text/plain": [
       "Text(0.5, 1.0, 'DAU/MAU ratio over time')"
      ]
     },
     "execution_count": 37,
     "metadata": {},
     "output_type": "execute_result"
    },
    {
     "data": {
      "image/png": "[encoded data removed]",
      "text/plain": [
       "<Figure size 1080x504 with 1 Axes>"
      ]
     },
     "metadata": {},
     "output_type": "display_data"
    }
   ],
   "source": [
    "#make a line plot to see the trend of stickiness (DAU/MAU) over time\n",
    "fig, ax = plt.subplots()\n",
    "\n",
    "ax.plot(adopted_join1['DAU/MAU'],linewidth=2, label='DAU/MAU', color= \"salmon\")\n",
    "\n",
    "\n",
    "# Set x-ticks to yearly interval and add legend and labels\n",
    "ax.xaxis.set_major_formatter(mdates.DateFormatter('%b %Y'))\n",
    "ax.legend()\n",
    "ax.set_xlabel('Date')\n",
    "ax.set_ylabel('DAU/MAU')\n",
    "ax.set_title('DAU/MAU ratio over time')"
   ]
  },
  {
   "cell_type": "markdown",
   "metadata": {},
   "source": [
    "Average of DAU/MAU ratio in 2 years:"
   ]
  },
  {
   "cell_type": "code",
   "execution_count": 38,
   "metadata": {},
   "outputs": [
    {
     "data": {
      "text/plain": [
       "DAU/MAU    3.295129\n",
       "dtype: float64"
      ]
     },
     "execution_count": 38,
     "metadata": {},
     "output_type": "execute_result"
    }
   ],
   "source": [
    "adopted_join1.mean()"
   ]
  },
  {
   "cell_type": "markdown",
   "metadata": {},
   "source": [
    "As we also see before in the MoM adopted user growth, the stickiness metric fluctuates through time with a little upward trend. So the high increasing rate we see before for DAU and MAU may due to the growth of new users"
   ]
  },
  {
   "cell_type": "code",
   "execution_count": 39,
   "metadata": {},
   "outputs": [
    {
     "data": {
      "text/html": [
       "<div>\n",
       "<style scoped>\n",
       "    .dataframe tbody tr th:only-of-type {\n",
       "        vertical-align: middle;\n",
       "    }\n",
       "\n",
       "    .dataframe tbody tr th {\n",
       "        vertical-align: top;\n",
       "    }\n",
       "\n",
       "    .dataframe thead th {\n",
       "        text-align: right;\n",
       "    }\n",
       "</style>\n",
       "<table border=\"1\" class=\"dataframe\">\n",
       "  <thead>\n",
       "    <tr style=\"text-align: right;\">\n",
       "      <th></th>\n",
       "      <th>object_id</th>\n",
       "    </tr>\n",
       "    <tr>\n",
       "      <th>creation_time</th>\n",
       "      <th></th>\n",
       "    </tr>\n",
       "  </thead>\n",
       "  <tbody>\n",
       "    <tr>\n",
       "      <td>2012-05-01</td>\n",
       "      <td>16</td>\n",
       "    </tr>\n",
       "    <tr>\n",
       "      <td>2012-06-01</td>\n",
       "      <td>401</td>\n",
       "    </tr>\n",
       "    <tr>\n",
       "      <td>2012-07-01</td>\n",
       "      <td>387</td>\n",
       "    </tr>\n",
       "    <tr>\n",
       "      <td>2012-08-01</td>\n",
       "      <td>365</td>\n",
       "    </tr>\n",
       "    <tr>\n",
       "      <td>2012-09-01</td>\n",
       "      <td>409</td>\n",
       "    </tr>\n",
       "  </tbody>\n",
       "</table>\n",
       "</div>"
      ],
      "text/plain": [
       "               object_id\n",
       "creation_time           \n",
       "2012-05-01            16\n",
       "2012-06-01           401\n",
       "2012-07-01           387\n",
       "2012-08-01           365\n",
       "2012-09-01           409"
      ]
     },
     "execution_count": 39,
     "metadata": {},
     "output_type": "execute_result"
    }
   ],
   "source": [
    "#now we will plot the count of new users each month\n",
    "#copy the original dataframe\n",
    "user_eng1 = user_eng.copy()\n",
    "\n",
    "#truncate date time data to 'month - year'\n",
    "user_eng1['creation_time'] = pd.to_datetime(user_eng1['creation_time']).dt.to_period('M')\n",
    "user_eng1['creation_time'] = user_eng1.creation_time.values.astype('datetime64[M]')\n",
    "\n",
    "user_eng1 = user_eng1[['creation_time','object_id']].groupby('creation_time').count()\n",
    "\n",
    "#take a quick look of first 5 row\n",
    "user_eng1.head()"
   ]
  },
  {
   "cell_type": "code",
   "execution_count": 40,
   "metadata": {},
   "outputs": [
    {
     "data": {
      "text/plain": [
       "Text(0.5, 1.0, 'New users over time')"
      ]
     },
     "execution_count": 40,
     "metadata": {},
     "output_type": "execute_result"
    },
    {
     "data": {
      "image/png": "[encoded data removed]",
      "text/plain": [
       "<Figure size 1080x504 with 1 Axes>"
      ]
     },
     "metadata": {},
     "output_type": "display_data"
    }
   ],
   "source": [
    "fig, ax = plt.subplots()\n",
    "\n",
    "ax.plot(user_eng1['object_id'],linewidth=2, label='users', color= \"salmon\")\n",
    "\n",
    "\n",
    "# Set x-ticks to yearly interval and add legend and labels\n",
    "ax.xaxis.set_major_formatter(mdates.DateFormatter('%b %Y'))\n",
    "ax.legend()\n",
    "ax.set_xlabel('Date')\n",
    "ax.set_ylabel('Total number of users')\n",
    "ax.set_title('New users over time')"
   ]
  },
  {
   "cell_type": "markdown",
   "metadata": {},
   "source": [
    "Our assumption was correct, there is a huge jump of new users over the past 2 years"
   ]
  },
  {
   "cell_type": "markdown",
   "metadata": {},
   "source": [
    "## 2) Best predictors for the adopted users"
   ]
  },
  {
   "cell_type": "markdown",
   "metadata": {},
   "source": [
    "### a) EDA"
   ]
  },
  {
   "cell_type": "code",
   "execution_count": 41,
   "metadata": {},
   "outputs": [],
   "source": [
    "# Create a dummy variable to determine if they are an adopted user or not\n",
    "adopted_user_id['adopted_user'] = 1"
   ]
  },
  {
   "cell_type": "code",
   "execution_count": 42,
   "metadata": {},
   "outputs": [],
   "source": [
    "# Join adopted user dataframe with original dataframe\n",
    "adopted_user_join = pd.merge(adopted_user_id, user_eng, how='outer',\n",
    "                  left_on='user_id', right_on='object_id')\n"
   ]
  },
  {
   "cell_type": "code",
   "execution_count": 43,
   "metadata": {},
   "outputs": [],
   "source": [
    "#fill in non-adopted user with 0s to complete the dummies variable for adopted users\n",
    "adopted_user_join['adopted_user'] = adopted_user_join['adopted_user'].fillna(0)"
   ]
  },
  {
   "cell_type": "code",
   "execution_count": 44,
   "metadata": {},
   "outputs": [],
   "source": [
    "#convert unix time to utc time\n",
    "adopted_user_join['last_session_creation_time'] = pd.to_datetime(adopted_user_join['last_session_creation_time'],unit='s')\n",
    "adopted_user_join['last_session_creation_time'] = adopted_user_join['last_session_creation_time'].dt.tz_localize('UTC')\n",
    "adopted_user_join['creation_time'] = adopted_user_join['creation_time'].dt.tz_localize('UTC')\n"
   ]
  },
  {
   "cell_type": "code",
   "execution_count": 45,
   "metadata": {},
   "outputs": [],
   "source": [
    "# Time from account creation to last login, we name it time delta\n",
    "adopted_user_join['last_active_delta'] = (adopted_user_join['last_session_creation_time'] \\\n",
    "                                          - adopted_user_join['creation_time']).astype('timedelta64[D]')\n"
   ]
  },
  {
   "cell_type": "code",
   "execution_count": 46,
   "metadata": {},
   "outputs": [
    {
     "data": {
      "text/html": [
       "<div>\n",
       "<style scoped>\n",
       "    .dataframe tbody tr th:only-of-type {\n",
       "        vertical-align: middle;\n",
       "    }\n",
       "\n",
       "    .dataframe tbody tr th {\n",
       "        vertical-align: top;\n",
       "    }\n",
       "\n",
       "    .dataframe thead th {\n",
       "        text-align: right;\n",
       "    }\n",
       "</style>\n",
       "<table border=\"1\" class=\"dataframe\">\n",
       "  <thead>\n",
       "    <tr style=\"text-align: right;\">\n",
       "      <th></th>\n",
       "      <th>user_id</th>\n",
       "      <th>adopted_user</th>\n",
       "      <th>object_id</th>\n",
       "      <th>creation_time</th>\n",
       "      <th>name</th>\n",
       "      <th>email</th>\n",
       "      <th>creation_source</th>\n",
       "      <th>last_session_creation_time</th>\n",
       "      <th>opted_in_to_mailing_list</th>\n",
       "      <th>enabled_for_marketing_drip</th>\n",
       "      <th>org_id</th>\n",
       "      <th>invited_by_user_id</th>\n",
       "      <th>email_domain</th>\n",
       "      <th>last_active_delta</th>\n",
       "    </tr>\n",
       "  </thead>\n",
       "  <tbody>\n",
       "    <tr>\n",
       "      <td>0</td>\n",
       "      <td>2.0</td>\n",
       "      <td>1.0</td>\n",
       "      <td>2</td>\n",
       "      <td>2013-11-15 03:45:04+00:00</td>\n",
       "      <td>Poole Matthew</td>\n",
       "      <td>MatthewPoole@gustr.com</td>\n",
       "      <td>ORG_INVITE</td>\n",
       "      <td>2014-03-31 03:45:04+00:00</td>\n",
       "      <td>0</td>\n",
       "      <td>0</td>\n",
       "      <td>1</td>\n",
       "      <td>316.0</td>\n",
       "      <td>gustr.com</td>\n",
       "      <td>136.0</td>\n",
       "    </tr>\n",
       "    <tr>\n",
       "      <td>1</td>\n",
       "      <td>10.0</td>\n",
       "      <td>1.0</td>\n",
       "      <td>10</td>\n",
       "      <td>2013-01-16 22:08:03+00:00</td>\n",
       "      <td>Santos Carla</td>\n",
       "      <td>CarlaFerreiraSantos@gustr.com</td>\n",
       "      <td>ORG_INVITE</td>\n",
       "      <td>2014-06-03 22:08:03+00:00</td>\n",
       "      <td>1</td>\n",
       "      <td>1</td>\n",
       "      <td>318</td>\n",
       "      <td>4143.0</td>\n",
       "      <td>gustr.com</td>\n",
       "      <td>503.0</td>\n",
       "    </tr>\n",
       "    <tr>\n",
       "      <td>2</td>\n",
       "      <td>33.0</td>\n",
       "      <td>1.0</td>\n",
       "      <td>33</td>\n",
       "      <td>2014-03-11 06:29:09+00:00</td>\n",
       "      <td>Araujo José</td>\n",
       "      <td>JoseMartinsAraujo@cuvox.de</td>\n",
       "      <td>GUEST_INVITE</td>\n",
       "      <td>2014-05-31 06:29:09+00:00</td>\n",
       "      <td>0</td>\n",
       "      <td>0</td>\n",
       "      <td>401</td>\n",
       "      <td>79.0</td>\n",
       "      <td>cuvox.de</td>\n",
       "      <td>81.0</td>\n",
       "    </tr>\n",
       "    <tr>\n",
       "      <td>3</td>\n",
       "      <td>42.0</td>\n",
       "      <td>1.0</td>\n",
       "      <td>42</td>\n",
       "      <td>2012-11-11 19:05:07+00:00</td>\n",
       "      <td>Pinto Giovanna</td>\n",
       "      <td>GiovannaCunhaPinto@cuvox.de</td>\n",
       "      <td>SIGNUP</td>\n",
       "      <td>2014-05-25 19:05:07+00:00</td>\n",
       "      <td>1</td>\n",
       "      <td>0</td>\n",
       "      <td>235</td>\n",
       "      <td>NaN</td>\n",
       "      <td>cuvox.de</td>\n",
       "      <td>560.0</td>\n",
       "    </tr>\n",
       "    <tr>\n",
       "      <td>4</td>\n",
       "      <td>50.0</td>\n",
       "      <td>1.0</td>\n",
       "      <td>50</td>\n",
       "      <td>2012-06-03 11:02:08+00:00</td>\n",
       "      <td>Oliveira Gabrielly</td>\n",
       "      <td>GabriellyAlmeidaOliveira@gmail.com</td>\n",
       "      <td>GUEST_INVITE</td>\n",
       "      <td>2012-10-23 11:02:08+00:00</td>\n",
       "      <td>0</td>\n",
       "      <td>0</td>\n",
       "      <td>61</td>\n",
       "      <td>50.0</td>\n",
       "      <td>gmail.com</td>\n",
       "      <td>142.0</td>\n",
       "    </tr>\n",
       "  </tbody>\n",
       "</table>\n",
       "</div>"
      ],
      "text/plain": [
       "   user_id  adopted_user  object_id             creation_time  \\\n",
       "0      2.0           1.0          2 2013-11-15 03:45:04+00:00   \n",
       "1     10.0           1.0         10 2013-01-16 22:08:03+00:00   \n",
       "2     33.0           1.0         33 2014-03-11 06:29:09+00:00   \n",
       "3     42.0           1.0         42 2012-11-11 19:05:07+00:00   \n",
       "4     50.0           1.0         50 2012-06-03 11:02:08+00:00   \n",
       "\n",
       "                 name                               email creation_source  \\\n",
       "0       Poole Matthew              MatthewPoole@gustr.com      ORG_INVITE   \n",
       "1        Santos Carla       CarlaFerreiraSantos@gustr.com      ORG_INVITE   \n",
       "2         Araujo José          JoseMartinsAraujo@cuvox.de    GUEST_INVITE   \n",
       "3      Pinto Giovanna         GiovannaCunhaPinto@cuvox.de          SIGNUP   \n",
       "4  Oliveira Gabrielly  GabriellyAlmeidaOliveira@gmail.com    GUEST_INVITE   \n",
       "\n",
       "  last_session_creation_time  opted_in_to_mailing_list  \\\n",
       "0  2014-03-31 03:45:04+00:00                         0   \n",
       "1  2014-06-03 22:08:03+00:00                         1   \n",
       "2  2014-05-31 06:29:09+00:00                         0   \n",
       "3  2014-05-25 19:05:07+00:00                         1   \n",
       "4  2012-10-23 11:02:08+00:00                         0   \n",
       "\n",
       "   enabled_for_marketing_drip  org_id  invited_by_user_id email_domain  \\\n",
       "0                           0       1               316.0    gustr.com   \n",
       "1                           1     318              4143.0    gustr.com   \n",
       "2                           0     401                79.0     cuvox.de   \n",
       "3                           0     235                 NaN     cuvox.de   \n",
       "4                           0      61                50.0    gmail.com   \n",
       "\n",
       "   last_active_delta  \n",
       "0              136.0  \n",
       "1              503.0  \n",
       "2               81.0  \n",
       "3              560.0  \n",
       "4              142.0  "
      ]
     },
     "execution_count": 46,
     "metadata": {},
     "output_type": "execute_result"
    }
   ],
   "source": [
    "#take a quick look at first 5 rows\n",
    "adopted_user_join.head()"
   ]
  },
  {
   "cell_type": "code",
   "execution_count": 47,
   "metadata": {},
   "outputs": [
    {
     "data": {
      "text/plain": [
       "0.0    10385\n",
       "1.0     1615\n",
       "Name: adopted_user, dtype: int64"
      ]
     },
     "execution_count": 47,
     "metadata": {},
     "output_type": "execute_result"
    }
   ],
   "source": [
    "#count value between adopted and non-adopt users\n",
    "adopted_user_join['adopted_user'].value_counts()"
   ]
  },
  {
   "cell_type": "code",
   "execution_count": 48,
   "metadata": {},
   "outputs": [
    {
     "data": {
      "image/png": "[encoded data removed]",
      "text/plain": [
       "<Figure size 504x504 with 1 Axes>"
      ]
     },
     "metadata": {},
     "output_type": "display_data"
    }
   ],
   "source": [
    "#plot the value counts of adopted and non-adopt users\n",
    "sns.set(rc={'figure.figsize':(7, 7)})\n",
    "\n",
    "sns.countplot(x='adopted_user',data=adopted_user_join, palette='husl')\n",
    "plt.title('Adopted vs. Non-adopt users counts')\n",
    "plt.show()"
   ]
  },
  {
   "cell_type": "code",
   "execution_count": 49,
   "metadata": {},
   "outputs": [
    {
     "name": "stdout",
     "output_type": "stream",
     "text": [
      "percentage of no adopt is 87.0\n",
      "percentage of subscription 13.0\n"
     ]
    }
   ],
   "source": [
    "#calculate the ratio between adopt and non-adopt users\n",
    "\n",
    "#count\n",
    "count_no_adopt = len(adopted_user_join[adopted_user_join['adopted_user']==0])\n",
    "count_adopt = len(adopted_user_join[adopted_user_join['adopted_user']==1])\n",
    "\n",
    "#percentage\n",
    "pct_of_no_adopt = round(count_no_adopt/(count_adopt+count_no_adopt),2)\n",
    "print(\"percentage of no adopt is\", pct_of_no_adopt*100)\n",
    "pct_of_adopt = round(count_adopt/(count_adopt+count_no_adopt),2)\n",
    "print(\"percentage of subscription\", pct_of_adopt*100)"
   ]
  },
  {
   "cell_type": "markdown",
   "metadata": {},
   "source": [
    "**We can see the problem of imbalance between 2 class of adopted and non-adopted here. So we will resample and address this later on**"
   ]
  },
  {
   "cell_type": "code",
   "execution_count": 50,
   "metadata": {},
   "outputs": [
    {
     "data": {
      "text/plain": [
       "(array([0, 1, 2, 3, 4]), <a list of 5 Text xticklabel objects>)"
      ]
     },
     "execution_count": 50,
     "metadata": {},
     "output_type": "execute_result"
    },
    {
     "data": {
      "image/png": "[encoded data removed]",
      "text/plain": [
       "<Figure size 720x504 with 1 Axes>"
      ]
     },
     "metadata": {},
     "output_type": "display_data"
    }
   ],
   "source": [
    "#draw the bar plot to compare the total count between adopted and non-adopt user segment by creation source\n",
    "\n",
    "sns.set(rc={'figure.figsize':(10, 7)})\n",
    "\n",
    "pd.crosstab(adopted_user_join.creation_source,adopted_user_join.adopted_user).plot(kind='bar')\n",
    "plt.title('Adopted users by creation source')\n",
    "plt.xlabel('Creation Source')\n",
    "plt.ylabel('Adopted users count')\n",
    "plt.xticks(rotation=0)"
   ]
  },
  {
   "cell_type": "code",
   "execution_count": 51,
   "metadata": {},
   "outputs": [
    {
     "data": {
      "text/plain": [
       "(array([0, 1]), <a list of 2 Text xticklabel objects>)"
      ]
     },
     "execution_count": 51,
     "metadata": {},
     "output_type": "execute_result"
    },
    {
     "data": {
      "image/png": "[encoded data removed]",
      "text/plain": [
       "<Figure size 720x504 with 1 Axes>"
      ]
     },
     "metadata": {},
     "output_type": "display_data"
    }
   ],
   "source": [
    "#draw the bar plot to compare the total count between adopted and non-adopt user segment by opt int mailing list\n",
    "\n",
    "pd.crosstab(adopted_user_join.opted_in_to_mailing_list,adopted_user_join.adopted_user).plot(kind='bar')\n",
    "plt.title('Adopted users by mailing list')\n",
    "plt.xlabel('Mailing list')\n",
    "plt.ylabel('Adopted users count')\n",
    "plt.xticks(rotation=0)"
   ]
  },
  {
   "cell_type": "code",
   "execution_count": 52,
   "metadata": {},
   "outputs": [
    {
     "data": {
      "text/plain": [
       "(array([0, 1]), <a list of 2 Text xticklabel objects>)"
      ]
     },
     "execution_count": 52,
     "metadata": {},
     "output_type": "execute_result"
    },
    {
     "data": {
      "image/png": "[encoded data removed]",
      "text/plain": [
       "<Figure size 720x504 with 1 Axes>"
      ]
     },
     "metadata": {},
     "output_type": "display_data"
    }
   ],
   "source": [
    "#draw the bar plot to compare the total count between adopted and non-adopt user segment by marketing drip\n",
    "pd.crosstab(adopted_user_join.enabled_for_marketing_drip,adopted_user_join.adopted_user).plot(kind='bar')\n",
    "plt.title('Adopted users by marketing Drip')\n",
    "plt.xlabel('Marketing Drip')\n",
    "plt.ylabel('Adopted users count')\n",
    "plt.xticks(rotation=0)"
   ]
  },
  {
   "cell_type": "code",
   "execution_count": 53,
   "metadata": {},
   "outputs": [
    {
     "data": {
      "text/html": [
       "<div>\n",
       "<style scoped>\n",
       "    .dataframe tbody tr th:only-of-type {\n",
       "        vertical-align: middle;\n",
       "    }\n",
       "\n",
       "    .dataframe tbody tr th {\n",
       "        vertical-align: top;\n",
       "    }\n",
       "\n",
       "    .dataframe thead th {\n",
       "        text-align: right;\n",
       "    }\n",
       "</style>\n",
       "<table border=\"1\" class=\"dataframe\">\n",
       "  <thead>\n",
       "    <tr style=\"text-align: right;\">\n",
       "      <th></th>\n",
       "      <th>user_id</th>\n",
       "      <th>object_id</th>\n",
       "      <th>opted_in_to_mailing_list</th>\n",
       "      <th>enabled_for_marketing_drip</th>\n",
       "      <th>org_id</th>\n",
       "      <th>invited_by_user_id</th>\n",
       "      <th>last_active_delta</th>\n",
       "    </tr>\n",
       "    <tr>\n",
       "      <th>adopted_user</th>\n",
       "      <th></th>\n",
       "      <th></th>\n",
       "      <th></th>\n",
       "      <th></th>\n",
       "      <th></th>\n",
       "      <th></th>\n",
       "      <th></th>\n",
       "    </tr>\n",
       "  </thead>\n",
       "  <tbody>\n",
       "    <tr>\n",
       "      <td>0.0</td>\n",
       "      <td>NaN</td>\n",
       "      <td>5991.12</td>\n",
       "      <td>0.25</td>\n",
       "      <td>0.15</td>\n",
       "      <td>138.63</td>\n",
       "      <td>5958.68</td>\n",
       "      <td>5.87</td>\n",
       "    </tr>\n",
       "    <tr>\n",
       "      <td>1.0</td>\n",
       "      <td>6060.82</td>\n",
       "      <td>6060.82</td>\n",
       "      <td>0.26</td>\n",
       "      <td>0.16</td>\n",
       "      <td>162.78</td>\n",
       "      <td>5988.44</td>\n",
       "      <td>297.35</td>\n",
       "    </tr>\n",
       "  </tbody>\n",
       "</table>\n",
       "</div>"
      ],
      "text/plain": [
       "              user_id  object_id  opted_in_to_mailing_list  \\\n",
       "adopted_user                                                 \n",
       "0.0               NaN    5991.12                      0.25   \n",
       "1.0           6060.82    6060.82                      0.26   \n",
       "\n",
       "              enabled_for_marketing_drip  org_id  invited_by_user_id  \\\n",
       "adopted_user                                                           \n",
       "0.0                                 0.15  138.63             5958.68   \n",
       "1.0                                 0.16  162.78             5988.44   \n",
       "\n",
       "              last_active_delta  \n",
       "adopted_user                     \n",
       "0.0                        5.87  \n",
       "1.0                      297.35  "
      ]
     },
     "execution_count": 53,
     "metadata": {},
     "output_type": "execute_result"
    }
   ],
   "source": [
    "#calculate the mean of related variables to adopted users\n",
    "round(adopted_user_join.groupby('adopted_user').mean(),2)\n"
   ]
  },
  {
   "cell_type": "code",
   "execution_count": 54,
   "metadata": {},
   "outputs": [
    {
     "data": {
      "text/html": [
       "<div>\n",
       "<style scoped>\n",
       "    .dataframe tbody tr th:only-of-type {\n",
       "        vertical-align: middle;\n",
       "    }\n",
       "\n",
       "    .dataframe tbody tr th {\n",
       "        vertical-align: top;\n",
       "    }\n",
       "\n",
       "    .dataframe thead th {\n",
       "        text-align: right;\n",
       "    }\n",
       "</style>\n",
       "<table border=\"1\" class=\"dataframe\">\n",
       "  <thead>\n",
       "    <tr style=\"text-align: right;\">\n",
       "      <th></th>\n",
       "      <th>user_id</th>\n",
       "      <th>adopted_user</th>\n",
       "      <th>object_id</th>\n",
       "      <th>opted_in_to_mailing_list</th>\n",
       "      <th>enabled_for_marketing_drip</th>\n",
       "      <th>org_id</th>\n",
       "      <th>invited_by_user_id</th>\n",
       "      <th>last_active_delta</th>\n",
       "    </tr>\n",
       "    <tr>\n",
       "      <th>creation_source</th>\n",
       "      <th></th>\n",
       "      <th></th>\n",
       "      <th></th>\n",
       "      <th></th>\n",
       "      <th></th>\n",
       "      <th></th>\n",
       "      <th></th>\n",
       "      <th></th>\n",
       "    </tr>\n",
       "  </thead>\n",
       "  <tbody>\n",
       "    <tr>\n",
       "      <td>GUEST_INVITE</td>\n",
       "      <td>6025.32</td>\n",
       "      <td>0.17</td>\n",
       "      <td>5949.46</td>\n",
       "      <td>0.25</td>\n",
       "      <td>0.15</td>\n",
       "      <td>141.34</td>\n",
       "      <td>5912.55</td>\n",
       "      <td>74.85</td>\n",
       "    </tr>\n",
       "    <tr>\n",
       "      <td>ORG_INVITE</td>\n",
       "      <td>6071.94</td>\n",
       "      <td>0.13</td>\n",
       "      <td>5981.86</td>\n",
       "      <td>0.25</td>\n",
       "      <td>0.15</td>\n",
       "      <td>138.94</td>\n",
       "      <td>5988.59</td>\n",
       "      <td>55.23</td>\n",
       "    </tr>\n",
       "    <tr>\n",
       "      <td>PERSONAL_PROJECTS</td>\n",
       "      <td>6062.50</td>\n",
       "      <td>0.08</td>\n",
       "      <td>5975.33</td>\n",
       "      <td>0.24</td>\n",
       "      <td>0.14</td>\n",
       "      <td>144.29</td>\n",
       "      <td>NaN</td>\n",
       "      <td>67.56</td>\n",
       "    </tr>\n",
       "    <tr>\n",
       "      <td>SIGNUP</td>\n",
       "      <td>6022.74</td>\n",
       "      <td>0.14</td>\n",
       "      <td>6020.83</td>\n",
       "      <td>0.25</td>\n",
       "      <td>0.15</td>\n",
       "      <td>146.25</td>\n",
       "      <td>NaN</td>\n",
       "      <td>50.31</td>\n",
       "    </tr>\n",
       "    <tr>\n",
       "      <td>SIGNUP_GOOGLE_AUTH</td>\n",
       "      <td>6135.55</td>\n",
       "      <td>0.17</td>\n",
       "      <td>6145.20</td>\n",
       "      <td>0.24</td>\n",
       "      <td>0.15</td>\n",
       "      <td>141.52</td>\n",
       "      <td>NaN</td>\n",
       "      <td>58.12</td>\n",
       "    </tr>\n",
       "  </tbody>\n",
       "</table>\n",
       "</div>"
      ],
      "text/plain": [
       "                    user_id  adopted_user  object_id  \\\n",
       "creation_source                                        \n",
       "GUEST_INVITE        6025.32          0.17    5949.46   \n",
       "ORG_INVITE          6071.94          0.13    5981.86   \n",
       "PERSONAL_PROJECTS   6062.50          0.08    5975.33   \n",
       "SIGNUP              6022.74          0.14    6020.83   \n",
       "SIGNUP_GOOGLE_AUTH  6135.55          0.17    6145.20   \n",
       "\n",
       "                    opted_in_to_mailing_list  enabled_for_marketing_drip  \\\n",
       "creation_source                                                            \n",
       "GUEST_INVITE                            0.25                        0.15   \n",
       "ORG_INVITE                              0.25                        0.15   \n",
       "PERSONAL_PROJECTS                       0.24                        0.14   \n",
       "SIGNUP                                  0.25                        0.15   \n",
       "SIGNUP_GOOGLE_AUTH                      0.24                        0.15   \n",
       "\n",
       "                    org_id  invited_by_user_id  last_active_delta  \n",
       "creation_source                                                    \n",
       "GUEST_INVITE        141.34             5912.55              74.85  \n",
       "ORG_INVITE          138.94             5988.59              55.23  \n",
       "PERSONAL_PROJECTS   144.29                 NaN              67.56  \n",
       "SIGNUP              146.25                 NaN              50.31  \n",
       "SIGNUP_GOOGLE_AUTH  141.52                 NaN              58.12  "
      ]
     },
     "execution_count": 54,
     "metadata": {},
     "output_type": "execute_result"
    }
   ],
   "source": [
    "#calculate the mean of numerical varibales group by creation source\n",
    "round(adopted_user_join.groupby('creation_source').mean(),2)"
   ]
  },
  {
   "cell_type": "code",
   "execution_count": 55,
   "metadata": {},
   "outputs": [
    {
     "data": {
      "text/html": [
       "<div>\n",
       "<style scoped>\n",
       "    .dataframe tbody tr th:only-of-type {\n",
       "        vertical-align: middle;\n",
       "    }\n",
       "\n",
       "    .dataframe tbody tr th {\n",
       "        vertical-align: top;\n",
       "    }\n",
       "\n",
       "    .dataframe thead th {\n",
       "        text-align: right;\n",
       "    }\n",
       "</style>\n",
       "<table border=\"1\" class=\"dataframe\">\n",
       "  <thead>\n",
       "    <tr style=\"text-align: right;\">\n",
       "      <th></th>\n",
       "      <th>user_id</th>\n",
       "      <th>adopted_user</th>\n",
       "      <th>object_id</th>\n",
       "      <th>enabled_for_marketing_drip</th>\n",
       "      <th>org_id</th>\n",
       "      <th>invited_by_user_id</th>\n",
       "      <th>last_active_delta</th>\n",
       "    </tr>\n",
       "    <tr>\n",
       "      <th>opted_in_to_mailing_list</th>\n",
       "      <th></th>\n",
       "      <th></th>\n",
       "      <th></th>\n",
       "      <th></th>\n",
       "      <th></th>\n",
       "      <th></th>\n",
       "      <th></th>\n",
       "    </tr>\n",
       "  </thead>\n",
       "  <tbody>\n",
       "    <tr>\n",
       "      <td>0</td>\n",
       "      <td>6080.45</td>\n",
       "      <td>0.13</td>\n",
       "      <td>6065.15</td>\n",
       "      <td>0.05</td>\n",
       "      <td>141.64</td>\n",
       "      <td>5953.72</td>\n",
       "      <td>58.75</td>\n",
       "    </tr>\n",
       "    <tr>\n",
       "      <td>1</td>\n",
       "      <td>6004.25</td>\n",
       "      <td>0.14</td>\n",
       "      <td>5806.02</td>\n",
       "      <td>0.45</td>\n",
       "      <td>142.62</td>\n",
       "      <td>5990.33</td>\n",
       "      <td>60.61</td>\n",
       "    </tr>\n",
       "  </tbody>\n",
       "</table>\n",
       "</div>"
      ],
      "text/plain": [
       "                          user_id  adopted_user  object_id  \\\n",
       "opted_in_to_mailing_list                                     \n",
       "0                         6080.45          0.13    6065.15   \n",
       "1                         6004.25          0.14    5806.02   \n",
       "\n",
       "                          enabled_for_marketing_drip  org_id  \\\n",
       "opted_in_to_mailing_list                                       \n",
       "0                                               0.05  141.64   \n",
       "1                                               0.45  142.62   \n",
       "\n",
       "                          invited_by_user_id  last_active_delta  \n",
       "opted_in_to_mailing_list                                         \n",
       "0                                    5953.72              58.75  \n",
       "1                                    5990.33              60.61  "
      ]
     },
     "execution_count": 55,
     "metadata": {},
     "output_type": "execute_result"
    }
   ],
   "source": [
    "#calculate the mean of numerical varibales group by mailing list subscribers or not\n",
    "round(adopted_user_join.groupby('opted_in_to_mailing_list').mean(),2)"
   ]
  },
  {
   "cell_type": "code",
   "execution_count": 56,
   "metadata": {},
   "outputs": [
    {
     "data": {
      "text/html": [
       "<div>\n",
       "<style scoped>\n",
       "    .dataframe tbody tr th:only-of-type {\n",
       "        vertical-align: middle;\n",
       "    }\n",
       "\n",
       "    .dataframe tbody tr th {\n",
       "        vertical-align: top;\n",
       "    }\n",
       "\n",
       "    .dataframe thead th {\n",
       "        text-align: right;\n",
       "    }\n",
       "</style>\n",
       "<table border=\"1\" class=\"dataframe\">\n",
       "  <thead>\n",
       "    <tr style=\"text-align: right;\">\n",
       "      <th></th>\n",
       "      <th>user_id</th>\n",
       "      <th>adopted_user</th>\n",
       "      <th>object_id</th>\n",
       "      <th>opted_in_to_mailing_list</th>\n",
       "      <th>org_id</th>\n",
       "      <th>invited_by_user_id</th>\n",
       "      <th>last_active_delta</th>\n",
       "    </tr>\n",
       "    <tr>\n",
       "      <th>enabled_for_marketing_drip</th>\n",
       "      <th></th>\n",
       "      <th></th>\n",
       "      <th></th>\n",
       "      <th></th>\n",
       "      <th></th>\n",
       "      <th></th>\n",
       "      <th></th>\n",
       "    </tr>\n",
       "  </thead>\n",
       "  <tbody>\n",
       "    <tr>\n",
       "      <td>0</td>\n",
       "      <td>6077.97</td>\n",
       "      <td>0.13</td>\n",
       "      <td>6032.49</td>\n",
       "      <td>0.16</td>\n",
       "      <td>141.40</td>\n",
       "      <td>5957.72</td>\n",
       "      <td>58.77</td>\n",
       "    </tr>\n",
       "    <tr>\n",
       "      <td>1</td>\n",
       "      <td>5968.92</td>\n",
       "      <td>0.14</td>\n",
       "      <td>5818.27</td>\n",
       "      <td>0.75</td>\n",
       "      <td>144.63</td>\n",
       "      <td>5992.64</td>\n",
       "      <td>61.75</td>\n",
       "    </tr>\n",
       "  </tbody>\n",
       "</table>\n",
       "</div>"
      ],
      "text/plain": [
       "                            user_id  adopted_user  object_id  \\\n",
       "enabled_for_marketing_drip                                     \n",
       "0                           6077.97          0.13    6032.49   \n",
       "1                           5968.92          0.14    5818.27   \n",
       "\n",
       "                            opted_in_to_mailing_list  org_id  \\\n",
       "enabled_for_marketing_drip                                     \n",
       "0                                               0.16  141.40   \n",
       "1                                               0.75  144.63   \n",
       "\n",
       "                            invited_by_user_id  last_active_delta  \n",
       "enabled_for_marketing_drip                                         \n",
       "0                                      5957.72              58.77  \n",
       "1                                      5992.64              61.75  "
      ]
     },
     "execution_count": 56,
     "metadata": {},
     "output_type": "execute_result"
    }
   ],
   "source": [
    "#calculate the mean of numerical varibales group by marketing drip or not\n",
    "round(adopted_user_join.groupby('enabled_for_marketing_drip').mean(),2)"
   ]
  },
  {
   "cell_type": "markdown",
   "metadata": {},
   "source": [
    "After the general EDA, we will now dummy the categorical value in creation source, and take into account other variables for our classification models to determine which variables are the best predictors for adopted users"
   ]
  },
  {
   "cell_type": "markdown",
   "metadata": {},
   "source": [
    "### b) Create dummy variables\n"
   ]
  },
  {
   "cell_type": "code",
   "execution_count": 57,
   "metadata": {},
   "outputs": [
    {
     "data": {
      "text/plain": [
       "array(['adopted_user', 'opted_in_to_mailing_list',\n",
       "       'enabled_for_marketing_drip', 'guest_invite', 'org_invite',\n",
       "       'personal_project', 'website_signup', 'google_signup'],\n",
       "      dtype=object)"
      ]
     },
     "execution_count": 57,
     "metadata": {},
     "output_type": "execute_result"
    }
   ],
   "source": [
    "adopted_user_join1 = adopted_user_join[['adopted_user','creation_source',\\\n",
    "                                        'opted_in_to_mailing_list',\\\n",
    "                                        'enabled_for_marketing_drip']]\n",
    "\n",
    "\n",
    "#split the unique values in 'creation source' and assign dummy values to earch\n",
    "cat_vars=['creation_source']\n",
    "\n",
    "for var in cat_vars:\n",
    "    cat_list='var'+'_'+var\n",
    "    cat_list = pd.get_dummies(adopted_user_join1[var], prefix=var)\n",
    "    adopted_user_join2=adopted_user_join1.join(cat_list)\n",
    "    adopted_user_join1=adopted_user_join2\n",
    "    \n",
    "data_vars=adopted_user_join1.columns.values.tolist()\n",
    "\n",
    "to_keep=[i for i in data_vars if i not in cat_vars]\n",
    "adopted_user_final=adopted_user_join1[to_keep]\n",
    "\n",
    "#print out the name of all columns that we just split from the creation source\n",
    "adopted_user_final = adopted_user_final.rename(columns={\"creation_source_GUEST_INVITE\": \"guest_invite\", \\\n",
    "                                   \"creation_source_ORG_INVITE\": \"org_invite\",\\\n",
    "                         \"creation_source_PERSONAL_PROJECTS\": \"personal_project\",\\\n",
    "                         \"creation_source_SIGNUP\": \"website_signup\",\\\n",
    "                         \"creation_source_SIGNUP_GOOGLE_AUTH\": \"google_signup\" })\n",
    "adopted_user_final.columns.values"
   ]
  },
  {
   "cell_type": "markdown",
   "metadata": {},
   "source": [
    "### c) Over-sampling using SMOTE"
   ]
  },
  {
   "cell_type": "markdown",
   "metadata": {},
   "source": [
    "As we have seen the imbalance problem before. Now we will addressing the imbalance problem between two classes of adopted users"
   ]
  },
  {
   "cell_type": "code",
   "execution_count": 58,
   "metadata": {},
   "outputs": [],
   "source": [
    "#Split between explain and response variables\n",
    "X = adopted_user_final.loc[:, adopted_user_final.columns != 'adopted_user']\n",
    "y = adopted_user_final.loc[:, adopted_user_final.columns == 'adopted_user']"
   ]
  },
  {
   "cell_type": "code",
   "execution_count": 59,
   "metadata": {},
   "outputs": [
    {
     "name": "stdout",
     "output_type": "stream",
     "text": [
      "length of oversampled data is  14510\n",
      "Number of no subscription in oversampled data 7255\n",
      "Number of subscription 7255\n",
      "Proportion of no subscription data in oversampled data is  0.5\n",
      "Proportion of subscription data in oversampled data is  0.5\n"
     ]
    },
    {
     "name": "stderr",
     "output_type": "stream",
     "text": [
      "/Users/giangnguyen/opt/anaconda3/lib/python3.7/site-packages/sklearn/utils/validation.py:724: DataConversionWarning: A column-vector y was passed when a 1d array was expected. Please change the shape of y to (n_samples, ), for example using ravel().\n",
      "  y = column_or_1d(y, warn=True)\n"
     ]
    }
   ],
   "source": [
    "#resampling data\n",
    "os = SMOTE(random_state=0)\n",
    "X_train, X_test, y_train, y_test = train_test_split(X, y, test_size=0.3, random_state=0)\n",
    "columns = X_train.columns\n",
    "\n",
    "os_data_X,os_data_y=os.fit_sample(X_train, y_train)\n",
    "os_data_X = pd.DataFrame(data=os_data_X,columns=columns )\n",
    "os_data_y= pd.DataFrame(data=os_data_y,columns=['adopted_user'])\n",
    "# we can Check the numbers of our data\n",
    "print(\"length of oversampled data is \",len(os_data_X))\n",
    "print(\"Number of no subscription in oversampled data\",len(os_data_y[os_data_y['adopted_user']==0]))\n",
    "print(\"Number of subscription\",len(os_data_y[os_data_y['adopted_user']==1]))\n",
    "print(\"Proportion of no subscription data in oversampled data is \",len(os_data_y[os_data_y['adopted_user']==0])/len(os_data_X))\n",
    "print(\"Proportion of subscription data in oversampled data is \",len(os_data_y[os_data_y['adopted_user']==1])/len(os_data_X))"
   ]
  },
  {
   "cell_type": "markdown",
   "metadata": {},
   "source": [
    "Now our data is balance and ready for modelling."
   ]
  },
  {
   "cell_type": "markdown",
   "metadata": {},
   "source": [
    "### d) Feature Importance Selection"
   ]
  },
  {
   "cell_type": "markdown",
   "metadata": {},
   "source": [
    "#### We can use XGBoost model to find features that have most important in predicting adopted users"
   ]
  },
  {
   "cell_type": "code",
   "execution_count": 60,
   "metadata": {},
   "outputs": [],
   "source": [
    "#take response and explain date from balanced dataset\n",
    "X=os_data_X[['opted_in_to_mailing_list',\\\n",
    "       'enabled_for_marketing_drip', 'guest_invite', 'org_invite',\\\n",
    "       'personal_project', 'website_signup', 'google_signup']]\n",
    "\n",
    "y=os_data_y['adopted_user']\n",
    "\n",
    "#Train test split\n",
    "X_train_xgb, X_test_xgb, y_train_xgb, y_test_xgb = train_test_split(X, y, test_size=0.3, random_state=0)\n"
   ]
  },
  {
   "cell_type": "code",
   "execution_count": 61,
   "metadata": {},
   "outputs": [
    {
     "data": {
      "text/plain": [
       "({'max_depth': 3, 'min_child_weight': 1}, 0.5759193008068071)"
      ]
     },
     "execution_count": 61,
     "metadata": {},
     "output_type": "execute_result"
    }
   ],
   "source": [
    "#Hyperparameter tuning for XGBoost\n",
    "\n",
    "param_test = {\n",
    " 'max_depth':range(3,10,2),\n",
    " 'min_child_weight':range(1,6,2)\n",
    "}\n",
    "\n",
    "gsearch = GridSearchCV(estimator = XGBClassifier( learning_rate =0.1, n_estimators=140, max_depth=5,\n",
    " min_child_weight=1, gamma=0, subsample=0.8, colsample_bytree=0.8,\n",
    " objective= 'binary:logistic', nthread=4, scale_pos_weight=1, seed=27), \n",
    " param_grid = param_test, scoring='roc_auc',n_jobs=4,iid=False, cv=5)\n",
    "\n",
    "gsearch.fit(X_train_xgb,y_train_xgb)\n",
    "\n",
    "#print out the best score\n",
    "gsearch.best_params_, gsearch.best_score_"
   ]
  },
  {
   "cell_type": "code",
   "execution_count": 62,
   "metadata": {},
   "outputs": [
    {
     "data": {
      "image/png": "[encoded data removed]",
      "text/plain": [
       "<Figure size 720x504 with 1 Axes>"
      ]
     },
     "metadata": {},
     "output_type": "display_data"
    }
   ],
   "source": [
    "#using XGboost for feature importance\n",
    "xgb = XGBClassifier(max_depth = 3, min_child_weight = 1)\n",
    "xgb.fit(X_train_xgb, y_train_xgb)\n",
    "\n",
    "# plot feature importance\n",
    "plot_importance(xgb, color='salmon')\n",
    "pyplot.show()"
   ]
  },
  {
   "cell_type": "code",
   "execution_count": 63,
   "metadata": {},
   "outputs": [
    {
     "name": "stdout",
     "output_type": "stream",
     "text": [
      "Accuracy on training set: 0.554\n",
      "Accuracy on test set: 0.550\n"
     ]
    }
   ],
   "source": [
    "# Apply The Full Featured Classifier To The Test Data\n",
    "y_pred_xgb = xgb.predict(X_test_xgb)\n",
    "\n",
    "xgb.fit(X_train_xgb, y_train_xgb)\n",
    "print(\"Accuracy on training set: {:.3f}\".format(xgb.score(X_train_xgb, y_train_xgb)))\n",
    "print(\"Accuracy on test set: {:.3f}\".format(xgb.score(X_test_xgb, y_test_xgb)))\n"
   ]
  },
  {
   "cell_type": "code",
   "execution_count": 64,
   "metadata": {},
   "outputs": [
    {
     "name": "stdout",
     "output_type": "stream",
     "text": [
      "[[1449  731]\n",
      " [1228  945]]\n"
     ]
    }
   ],
   "source": [
    "#Confusion metrics\n",
    "confusion_matrix_xgb = confusion_matrix(y_test_xgb, y_pred_xgb)\n",
    "print(confusion_matrix_xgb)"
   ]
  },
  {
   "cell_type": "markdown",
   "metadata": {},
   "source": [
    "This mean that we 1,449 + 945 = 2,394 correct predictions and incorrecly classify 1,228 + 731 = 1,959"
   ]
  },
  {
   "cell_type": "markdown",
   "metadata": {},
   "source": [
    "#### We can also use Random Forest model to find features that have most important in predicting adopted users"
   ]
  },
  {
   "cell_type": "code",
   "execution_count": 65,
   "metadata": {},
   "outputs": [],
   "source": [
    "#create labels \n",
    "predict_labels = ['opted_in_to_mailing_list',\\\n",
    "       'enabled_for_marketing_drip', 'guest_invite', 'org_invite',\\\n",
    "       'personal_project', 'website_signup', 'google_signup']\n",
    "\n",
    "#take response and explain date from balanced dataset\n",
    "X=os_data_X[['opted_in_to_mailing_list',\\\n",
    "       'enabled_for_marketing_drip', 'guest_invite', 'org_invite',\\\n",
    "       'personal_project', 'website_signup', 'google_signup']]\n",
    "\n",
    "y=os_data_y['adopted_user']\n",
    "\n",
    "#Train test split\n",
    "X_train_rf, X_test_rf, y_train_rf, y_test_rf = train_test_split(X, y, test_size=0.3, random_state=0)\n"
   ]
  },
  {
   "cell_type": "markdown",
   "metadata": {},
   "source": [
    "#### We can use Gridsearch to find the best model for the Random Forest"
   ]
  },
  {
   "cell_type": "code",
   "execution_count": 66,
   "metadata": {},
   "outputs": [],
   "source": [
    "#Generate the random grid to fit in the Gridsearch\n",
    "\n",
    "# Number of trees in random forest\n",
    "n_estimators = [int(x) for x in np.linspace(start = 200, stop = 2000, num = 10)]\n",
    "# Number of features to consider at every split\n",
    "max_features = ['auto', 'sqrt']\n",
    "# Maximum number of levels in tree\n",
    "max_depth = [int(x) for x in np.linspace(10, 110, num = 11)]\n",
    "max_depth.append(None)\n",
    "# Minimum number of samples required to split a node\n",
    "min_samples_split = [2, 5, 10]\n",
    "# Minimum number of samples required at each leaf node\n",
    "min_samples_leaf = [1, 2, 4]\n",
    "# Method of selecting samples for training each tree\n",
    "bootstrap = [True, False]\n",
    "# Create the random grid\n",
    "random_grid = {'n_estimators': n_estimators,\n",
    "               'max_features': max_features,\n",
    "               'max_depth': max_depth,\n",
    "               'min_samples_split': min_samples_split,\n",
    "               'min_samples_leaf': min_samples_leaf,\n",
    "               'bootstrap': bootstrap}"
   ]
  },
  {
   "cell_type": "code",
   "execution_count": 67,
   "metadata": {},
   "outputs": [
    {
     "name": "stdout",
     "output_type": "stream",
     "text": [
      "Fitting 5 folds for each of 150 candidates, totalling 750 fits\n"
     ]
    },
    {
     "name": "stderr",
     "output_type": "stream",
     "text": [
      "[Parallel(n_jobs=-1)]: Using backend LokyBackend with 8 concurrent workers.\n",
      "[Parallel(n_jobs=-1)]: Done  25 tasks      | elapsed:   23.6s\n",
      "[Parallel(n_jobs=-1)]: Done 146 tasks      | elapsed:  1.9min\n",
      "[Parallel(n_jobs=-1)]: Done 349 tasks      | elapsed:  3.8min\n",
      "[Parallel(n_jobs=-1)]: Done 632 tasks      | elapsed:  6.7min\n",
      "[Parallel(n_jobs=-1)]: Done 750 out of 750 | elapsed:  7.9min finished\n"
     ]
    },
    {
     "data": {
      "text/plain": [
       "{'n_estimators': 200,\n",
       " 'min_samples_split': 10,\n",
       " 'min_samples_leaf': 4,\n",
       " 'max_features': 'auto',\n",
       " 'max_depth': 40,\n",
       " 'bootstrap': True}"
      ]
     },
     "execution_count": 67,
     "metadata": {},
     "output_type": "execute_result"
    }
   ],
   "source": [
    "# Use the random grid to search for best hyperparameters\n",
    "\n",
    "# Create the base model to tune\n",
    "rf = RandomForestRegressor()\n",
    "\n",
    "# For random search of parameters, using 5 fold cross validation, \n",
    "# search across 150 different combinations, and use all available cores\n",
    "rf_random = RandomizedSearchCV(estimator = rf, param_distributions = random_grid, n_iter = 150,\\\n",
    "                               cv = 5, verbose=2, random_state=42, n_jobs = -1)\n",
    "\n",
    "# Fit the random search model and select the best param\n",
    "rf_random.fit(X_train_rf, y_train_rf)\n",
    "rf_random.best_params_"
   ]
  },
  {
   "cell_type": "code",
   "execution_count": 68,
   "metadata": {},
   "outputs": [
    {
     "name": "stdout",
     "output_type": "stream",
     "text": [
      "('opted_in_to_mailing_list', 0.0904263454482633)\n",
      "('enabled_for_marketing_drip', 0.04841109892587863)\n",
      "('guest_invite', 0.1257497658513466)\n",
      "('org_invite', 0.06422640891005184)\n",
      "('personal_project', 0.4416182974292355)\n",
      "('website_signup', 0.0447355269069275)\n",
      "('google_signup', 0.18483255652829658)\n"
     ]
    }
   ],
   "source": [
    "#Now we find the best parameters to fit in the Random Forest model, we will use it to measure the feature important in the data\n",
    "\n",
    "#RF model\n",
    "rf = RandomForestClassifier(n_estimators= 400, min_samples_split= 10, min_samples_leaf= 4, \\\n",
    "                             max_features= 'sqrt', max_depth= 90, bootstrap= True)\n",
    "\n",
    "# Train the classifier\n",
    "rf.fit(X_train_rf, y_train_rf)\n",
    "\n",
    "# Print the name and gini importance of each feature\n",
    "for feature in zip(predict_labels, rf.feature_importances_):\n",
    "    print(feature)\n"
   ]
  },
  {
   "cell_type": "code",
   "execution_count": 69,
   "metadata": {},
   "outputs": [
    {
     "data": {
      "image/png": "[encoded data removed]",
      "text/plain": [
       "<Figure size 720x504 with 1 Axes>"
      ]
     },
     "metadata": {},
     "output_type": "display_data"
    }
   ],
   "source": [
    "plt.figure()\n",
    "sns.set(rc={'figure.figsize':(20, 10)})\n",
    "plt.title(\"Feature importances\")\n",
    "plt.bar(predict_labels,rf.feature_importances_, align=\"center\", color='salmon')\n",
    "plt.xticks(predict_labels)\n",
    "plt.xticks(rotation=25)\n",
    "plt.show()"
   ]
  },
  {
   "cell_type": "markdown",
   "metadata": {},
   "source": [
    "**We can see the Personal project, Guest invite and Sigup Google are the top 3 important features**"
   ]
  },
  {
   "cell_type": "code",
   "execution_count": 70,
   "metadata": {},
   "outputs": [
    {
     "name": "stdout",
     "output_type": "stream",
     "text": [
      "Accuracy on training set: 0.554\n",
      "Accuracy on test set: 0.550\n"
     ]
    }
   ],
   "source": [
    "# Apply The Full Featured Classifier To The Test Data\n",
    "y_pred_rf = rf.predict(X_test_rf)\n",
    "\n",
    "rf.fit(X_train_rf, y_train_rf)\n",
    "print(\"Accuracy on training set: {:.3f}\".format(rf.score(X_train_rf, y_train_rf)))\n",
    "print(\"Accuracy on test set: {:.3f}\".format(rf.score(X_test_rf, y_test_rf)))\n"
   ]
  },
  {
   "cell_type": "markdown",
   "metadata": {},
   "source": [
    "**We can see that there the accuracy score is not high since this is the model build on top of balanced dataset. Therefore, to effectively measure the accuracy of the model in this situation, we look at the confusion matrix instead**"
   ]
  },
  {
   "cell_type": "code",
   "execution_count": 71,
   "metadata": {},
   "outputs": [
    {
     "name": "stdout",
     "output_type": "stream",
     "text": [
      "[[1449  731]\n",
      " [1228  945]]\n"
     ]
    }
   ],
   "source": [
    "#Confusion metrics\n",
    "confusion_matrix_rf = confusion_matrix(y_test_rf, y_pred_rf)\n",
    "print(confusion_matrix_rf)"
   ]
  },
  {
   "cell_type": "markdown",
   "metadata": {},
   "source": [
    "This mean that we 1,449 + 945 = 2,394 correct predictions and incorrecly classify 1,228 + 731 = 1,959"
   ]
  },
  {
   "cell_type": "markdown",
   "metadata": {},
   "source": [
    "#### Conclusion for feature important:\n",
    "\n",
    "Since we see the important features differ for XGBoost and Random Forest given the same accuracy, these are potential reasons:\n",
    "\n",
    "- When there are several correlated features, XGBoost will tend to choose one and use it in several trees so other correlated features won t be used a lot (or probably not at all). Therefore, other correlated features can't help in the split process anymore, and they don't bring new information regarding the already used feature. \n",
    "\n",
    "- On the other hand, each tree of a Random forest is not built from the same features since there is a random selection of features to use for each tree. Hence, each correlated feature may have the chance to be selected in one of the tree. Therefore, the learning is done in parallel so each tree is not aware of what have been used for other trees.\n",
    "\n",
    "We are going to **test the correlation** between variables choosing the right model for feature importance:"
   ]
  },
  {
   "cell_type": "code",
   "execution_count": 72,
   "metadata": {},
   "outputs": [
    {
     "data": {
      "image/png": "[encoded data removed]",
      "text/plain": [
       "<Figure size 720x504 with 2 Axes>"
      ]
     },
     "metadata": {},
     "output_type": "display_data"
    }
   ],
   "source": [
    "#correlation for variables in X\n",
    "corr = X.corr()\n",
    "sns.set(rc={'figure.figsize':(10, 7)})\n",
    "\n",
    "#Plot the correlation\n",
    "fig = plt.figure()\n",
    "ax = fig.add_subplot(111)\n",
    "cax = ax.matshow(corr,cmap='coolwarm', vmin=-1, vmax=1)\n",
    "fig.colorbar(cax)\n",
    "ticks = np.arange(0,len(X.columns),1)\n",
    "ax.set_xticks(ticks)\n",
    "plt.xticks(rotation=90)\n",
    "ax.set_yticks(ticks)\n",
    "ax.set_xticklabels(X.columns)\n",
    "ax.set_yticklabels(X.columns)\n",
    "plt.show()"
   ]
  },
  {
   "cell_type": "markdown",
   "metadata": {},
   "source": [
    "We can see that these variables are highly correlated with each other in different ways, therefore, we will go with Random Forest as a more unbiased and precise decision in this case."
   ]
  },
  {
   "cell_type": "markdown",
   "metadata": {},
   "source": [
    "### e) Logistic Regression: analyse the significance of each variables on adopted users\n",
    "\n",
    "We can take a brief look at Last active time delta to see if this variable is correlated to user adoption"
   ]
  },
  {
   "cell_type": "code",
   "execution_count": 73,
   "metadata": {},
   "outputs": [
    {
     "name": "stdout",
     "output_type": "stream",
     "text": [
      "Optimization terminated successfully.\n",
      "         Current function value: 0.683473\n",
      "         Iterations 4\n",
      "                              Results: Logit\n",
      "===========================================================================\n",
      "Model:                  Logit               Pseudo R-squared:    0.014     \n",
      "Dependent Variable:     adopted_user        AIC:                 19848.3954\n",
      "Date:                   2020-01-10 12:46    BIC:                 19901.4736\n",
      "No. Observations:       14510               Log-Likelihood:      -9917.2   \n",
      "Df Model:               6                   LL-Null:             -10058.   \n",
      "Df Residuals:           14503               LLR p-value:         1.0932e-57\n",
      "Converged:              1.0000              Scale:               1.0000    \n",
      "No. Iterations:         4.0000                                             \n",
      "---------------------------------------------------------------------------\n",
      "                            Coef.  Std.Err.    z     P>|z|   [0.025  0.975]\n",
      "---------------------------------------------------------------------------\n",
      "opted_in_to_mailing_list    0.0197   0.0441   0.4465 0.6552 -0.0667  0.1060\n",
      "enabled_for_marketing_drip  0.0565   0.0535   1.0564 0.2908 -0.0484  0.1615\n",
      "guest_invite                0.2270   0.0393   5.7706 0.0000  0.1499  0.3041\n",
      "org_invite                 -0.0581   0.0298  -1.9504 0.0511 -0.1165  0.0003\n",
      "personal_project           -0.5935   0.0463 -12.8091 0.0000 -0.6843 -0.5027\n",
      "website_signup              0.0053   0.0411   0.1297 0.8968 -0.0753  0.0859\n",
      "google_signup               0.3540   0.0474   7.4657 0.0000  0.2611  0.4469\n",
      "===========================================================================\n",
      "\n"
     ]
    }
   ],
   "source": [
    "# implement the model\n",
    "logit_model=sm.Logit(y,X)\n",
    "result=logit_model.fit()\n",
    "print(result.summary2())"
   ]
  },
  {
   "cell_type": "markdown",
   "metadata": {},
   "source": [
    "According to the p-value and coefficients:\n",
    "- Since the p-value of Guest_invite, Personal_Projects and Google signup are smaller than 0.05 significant level, we will take these values in our classification model as they are statistically significant. Org_invite seems to have small effect since the p-value is approximately 0.05, we can also take into acount this variables for our model this time\n",
    "\n",
    "- From the coefficients, we can see that by having one 1 additional in Guest_invite, we will have 25% increase in the odd of adopted users since $e^{0.227}$ = 1.25, while it is 42% for Google signup as $e^{0.354}$ = 1.42. \n",
    "\n",
    "- On the other had, it's pretty counterintuitive that Org_invite and Personal projects have negative coefs, which means that they have negative effect on the odd of adopted users. In particular, an increase in 1 org_invite will decrease the odd of adopted users by 6% ($e^{0.0581}$ = 1.059). Likewise, 1 additional Personal_project signup will decrease the odd of adopted user by 81% ($e^{0.5935}$ = 1.81)"
   ]
  },
  {
   "cell_type": "code",
   "execution_count": 74,
   "metadata": {},
   "outputs": [],
   "source": [
    "# Since there are only Guest_invite, Personal_Projects, Google signup, Org_invite are significant, we will only include them in our model\n",
    "\n",
    "X = X[['guest_invite', 'org_invite','personal_project', 'website_signup', 'google_signup']]\n",
    "y = y\n",
    "\n",
    "#train test split\n",
    "X_train_logit, X_test_logit, y_train_logit, y_test_logit = train_test_split(X, y, test_size=0.3, random_state=0)\n"
   ]
  },
  {
   "cell_type": "markdown",
   "metadata": {},
   "source": [
    "#### Similaryly, we can use Gridsearch to find the best hyperparameter for the Logistic Regression"
   ]
  },
  {
   "cell_type": "code",
   "execution_count": 75,
   "metadata": {},
   "outputs": [
    {
     "name": "stdout",
     "output_type": "stream",
     "text": [
      "tuned hpyerparameters :(best parameters)  {'C': 1.0715193052376064, 'penalty': 'l2'}\n",
      "accuracy : 0.5449443733385843\n"
     ]
    }
   ],
   "source": [
    "#generate random grid with l2 penalty\n",
    "grid={\"C\":np.logspace(0.01,0.001,10,100,1000), \"penalty\":[\"l2\"]}# l2 ridge\n",
    "logreg=LogisticRegression(solver='lbfgs')\n",
    "logreg_cv=GridSearchCV(logreg,grid,cv=5)\n",
    "logreg_cv.fit(X_train_logit,y_train_logit)\n",
    "\n",
    "#choosing the best parameters\n",
    "print(\"tuned hpyerparameters :(best parameters) \",logreg_cv.best_params_)\n",
    "print(\"accuracy :\",logreg_cv.best_score_)\n"
   ]
  },
  {
   "cell_type": "code",
   "execution_count": 76,
   "metadata": {},
   "outputs": [
    {
     "name": "stderr",
     "output_type": "stream",
     "text": [
      "/Users/giangnguyen/opt/anaconda3/lib/python3.7/site-packages/sklearn/linear_model/logistic.py:432: FutureWarning: Default solver will be changed to 'lbfgs' in 0.22. Specify a solver to silence this warning.\n",
      "  FutureWarning)\n"
     ]
    },
    {
     "data": {
      "text/plain": [
       "LogisticRegression(C=1.07, class_weight=None, dual=False, fit_intercept=True,\n",
       "                   intercept_scaling=1, l1_ratio=None, max_iter=100,\n",
       "                   multi_class='warn', n_jobs=None, penalty='l2',\n",
       "                   random_state=None, solver='warn', tol=0.0001, verbose=0,\n",
       "                   warm_start=False)"
      ]
     },
     "execution_count": 76,
     "metadata": {},
     "output_type": "execute_result"
    }
   ],
   "source": [
    "# train the model\n",
    "logreg1 = LogisticRegression(C=1.07)\n",
    "logreg1.fit(X_train_logit, y_train_logit)\n"
   ]
  },
  {
   "cell_type": "code",
   "execution_count": 77,
   "metadata": {},
   "outputs": [
    {
     "name": "stdout",
     "output_type": "stream",
     "text": [
      "Accuracy on training set: 0.548\n",
      "Accuracy on test set: 0.545\n"
     ]
    },
    {
     "name": "stderr",
     "output_type": "stream",
     "text": [
      "/Users/giangnguyen/opt/anaconda3/lib/python3.7/site-packages/sklearn/linear_model/logistic.py:432: FutureWarning: Default solver will be changed to 'lbfgs' in 0.22. Specify a solver to silence this warning.\n",
      "  FutureWarning)\n"
     ]
    }
   ],
   "source": [
    "y_pred_logit = logreg1.predict(X_test_logit)\n",
    "\n",
    "\n",
    "logreg1.fit(X_train_logit, y_train_logit)\n",
    "print(\"Accuracy on training set: {:.3f}\".format(logreg1.score(X_train_logit, y_train_logit)))\n",
    "print(\"Accuracy on test set: {:.3f}\".format(logreg1.score(X_test_logit, y_test_logit)))\n"
   ]
  },
  {
   "cell_type": "markdown",
   "metadata": {},
   "source": [
    "**We can see that there the accuracy score is not high since this is the model build on top of balanced dataset. Therefore, to effectively measure the accuracy of the model in this situation, we look at the confusion matrix instead**"
   ]
  },
  {
   "cell_type": "code",
   "execution_count": 78,
   "metadata": {},
   "outputs": [
    {
     "name": "stdout",
     "output_type": "stream",
     "text": [
      "[[1561  619]\n",
      " [1361  812]]\n"
     ]
    }
   ],
   "source": [
    "#Confusion metrics\n",
    "confusion_matrix_logit = confusion_matrix(y_test_logit, y_pred_logit)\n",
    "print(confusion_matrix_logit)\n"
   ]
  },
  {
   "cell_type": "markdown",
   "metadata": {},
   "source": [
    "This mean that we correctly classify 1,561 + 812 = 2,373 and incorrecly classify 1172 + 796 = 1,980"
   ]
  },
  {
   "cell_type": "code",
   "execution_count": 79,
   "metadata": {},
   "outputs": [
    {
     "data": {
      "image/png": "[encoded data removed]",
      "text/plain": [
       "<Figure size 720x504 with 1 Axes>"
      ]
     },
     "metadata": {},
     "output_type": "display_data"
    }
   ],
   "source": [
    "\n",
    "logit_roc_auc = roc_auc_score(y_test_logit, logreg1.predict(X_test_logit))\n",
    "fpr, tpr, thresholds = roc_curve(y_test_logit, logreg1.predict_proba(X_test_logit)[:,1])\n",
    "plt.figure()\n",
    "plt.plot(fpr, tpr, label='Logistic Regression (area = %0.2f)' % logit_roc_auc)\n",
    "plt.plot([0, 1], [0, 1],'r--')\n",
    "plt.xlabel('False Positive Rate')\n",
    "plt.ylabel('True Positive Rate')\n",
    "plt.title('Receiver operating characteristic')\n",
    "plt.legend(loc=\"lower right\")\n",
    "plt.savefig('Log_ROC')\n",
    "plt.show()"
   ]
  },
  {
   "cell_type": "markdown",
   "metadata": {},
   "source": [
    "This indicates that we did a fair job in our model"
   ]
  },
  {
   "cell_type": "markdown",
   "metadata": {},
   "source": [
    "### f) Logistic Regression for last active time delta:"
   ]
  },
  {
   "cell_type": "markdown",
   "metadata": {},
   "source": [
    "We will now do a separate model for the time delta to see the significance of this variable on adopted user"
   ]
  },
  {
   "cell_type": "code",
   "execution_count": 80,
   "metadata": {},
   "outputs": [],
   "source": [
    "#preprocessing the data\n",
    "adopted_user_join1 = adopted_user_join.dropna(subset=['last_active_delta'])\n",
    "X_delta = adopted_user_join1[['last_active_delta']]\n",
    "y_delta = adopted_user_join1[['adopted_user']]\n",
    "\n",
    "#train split test\n",
    "X_train_delta, X_test_delta, y_train_delta, y_test_delta = train_test_split(X_delta, y_delta, test_size=0.3, random_state=0)\n"
   ]
  },
  {
   "cell_type": "code",
   "execution_count": 81,
   "metadata": {},
   "outputs": [
    {
     "name": "stdout",
     "output_type": "stream",
     "text": [
      "Optimization terminated successfully.\n",
      "         Current function value: 0.622126\n",
      "         Iterations 7\n",
      "                         Results: Logit\n",
      "=================================================================\n",
      "Model:              Logit            Pseudo R-squared: -0.307    \n",
      "Dependent Variable: adopted_user     AIC:              10980.0417\n",
      "Date:               2020-01-10 12:46 BIC:              10987.1269\n",
      "No. Observations:   8823             Log-Likelihood:   -5489.0   \n",
      "Df Model:           0                LL-Null:          -4199.6   \n",
      "Df Residuals:       8822             LLR p-value:      nan       \n",
      "Converged:          1.0000           Scale:            1.0000    \n",
      "No. Iterations:     7.0000                                       \n",
      "-----------------------------------------------------------------\n",
      "                     Coef.  Std.Err.    z    P>|z|  [0.025 0.975]\n",
      "-----------------------------------------------------------------\n",
      "last_active_delta    0.0093   0.0005 20.6497 0.0000 0.0084 0.0102\n",
      "=================================================================\n",
      "\n"
     ]
    }
   ],
   "source": [
    "logit_model=sm.Logit(y_delta,X_delta)\n",
    "result=logit_model.fit()\n",
    "print(result.summary2())"
   ]
  },
  {
   "cell_type": "markdown",
   "metadata": {},
   "source": [
    "According to the p-value and coefficients:\n",
    "- Since the p-value of last_active_delta is smaller than 0.05 significant level, we can consider that this variable is statistically significance.\n",
    "\n",
    "- From the coefficients, we can see that by having one 1 additional last_active_delta will yield increase in the odd of adopted users by 0.93% since $e^{0.0093}$ = 1.0093\n",
    "\n",
    "- This is pretty intuitive as the longer a user stay active on the platform, they will be more likely to be adopted."
   ]
  },
  {
   "cell_type": "code",
   "execution_count": 82,
   "metadata": {},
   "outputs": [
    {
     "name": "stderr",
     "output_type": "stream",
     "text": [
      "/Users/giangnguyen/opt/anaconda3/lib/python3.7/site-packages/sklearn/linear_model/logistic.py:432: FutureWarning: Default solver will be changed to 'lbfgs' in 0.22. Specify a solver to silence this warning.\n",
      "  FutureWarning)\n",
      "/Users/giangnguyen/opt/anaconda3/lib/python3.7/site-packages/sklearn/utils/validation.py:724: DataConversionWarning: A column-vector y was passed when a 1d array was expected. Please change the shape of y to (n_samples, ), for example using ravel().\n",
      "  y = column_or_1d(y, warn=True)\n"
     ]
    },
    {
     "data": {
      "text/plain": [
       "LogisticRegression(C=1.07, class_weight=None, dual=False, fit_intercept=True,\n",
       "                   intercept_scaling=1, l1_ratio=None, max_iter=100,\n",
       "                   multi_class='warn', n_jobs=None, penalty='l2',\n",
       "                   random_state=None, solver='warn', tol=0.0001, verbose=0,\n",
       "                   warm_start=False)"
      ]
     },
     "execution_count": 82,
     "metadata": {},
     "output_type": "execute_result"
    }
   ],
   "source": [
    "# train the model\n",
    "logreg1.fit(X_train_delta, y_train_delta)"
   ]
  },
  {
   "cell_type": "code",
   "execution_count": 83,
   "metadata": {},
   "outputs": [
    {
     "name": "stdout",
     "output_type": "stream",
     "text": [
      "Accuracy on training set: 0.962\n",
      "Accuracy on test set: 0.962\n"
     ]
    },
    {
     "name": "stderr",
     "output_type": "stream",
     "text": [
      "/Users/giangnguyen/opt/anaconda3/lib/python3.7/site-packages/sklearn/linear_model/logistic.py:432: FutureWarning: Default solver will be changed to 'lbfgs' in 0.22. Specify a solver to silence this warning.\n",
      "  FutureWarning)\n",
      "/Users/giangnguyen/opt/anaconda3/lib/python3.7/site-packages/sklearn/utils/validation.py:724: DataConversionWarning: A column-vector y was passed when a 1d array was expected. Please change the shape of y to (n_samples, ), for example using ravel().\n",
      "  y = column_or_1d(y, warn=True)\n"
     ]
    }
   ],
   "source": [
    "y_pred_delta = logreg1.predict(X_test_delta)\n",
    "\n",
    "\n",
    "logreg1.fit(X_train_delta, y_train_delta)\n",
    "print(\"Accuracy on training set: {:.3f}\".format(logreg1.score(X_train_delta, y_train_delta)))\n",
    "print(\"Accuracy on test set: {:.3f}\".format(logreg1.score(X_test_delta, y_test_delta)))\n"
   ]
  },
  {
   "cell_type": "code",
   "execution_count": 84,
   "metadata": {},
   "outputs": [
    {
     "name": "stdout",
     "output_type": "stream",
     "text": [
      "[[2130   33]\n",
      " [  67  417]]\n"
     ]
    }
   ],
   "source": [
    "confusion_matrix_delta = confusion_matrix(y_test_delta, y_pred_delta)\n",
    "print(confusion_matrix_delta)"
   ]
  },
  {
   "cell_type": "code",
   "execution_count": 85,
   "metadata": {},
   "outputs": [
    {
     "data": {
      "image/png": "[encoded data removed]",
      "text/plain": [
       "<Figure size 720x504 with 1 Axes>"
      ]
     },
     "metadata": {},
     "output_type": "display_data"
    }
   ],
   "source": [
    "\n",
    "logit_roc_auc = roc_auc_score(y_test_delta, logreg1.predict(X_test_delta))\n",
    "fpr, tpr, thresholds = roc_curve(y_test_delta, logreg1.predict_proba(X_test_delta)[:,1])\n",
    "plt.figure()\n",
    "plt.plot(fpr, tpr, label='Logistic Regression (area = %0.2f)' % logit_roc_auc)\n",
    "plt.plot([0, 1], [0, 1],'r--')\n",
    "\n",
    "plt.xlabel('False Positive Rate')\n",
    "plt.ylabel('True Positive Rate')\n",
    "plt.title('Receiver operating characteristic')\n",
    "plt.legend(loc=\"lower right\")\n",
    "plt.savefig('Log_ROC')\n",
    "plt.show()"
   ]
  },
  {
   "cell_type": "markdown",
   "metadata": {},
   "source": [
    "Our model did a good job at the model with 96.2% accuracy for the test set."
   ]
  },
  {
   "cell_type": "markdown",
   "metadata": {},
   "source": [
    "Reference: \n",
    "- https://towardsdatascience.com/hyperparameter-tuning-the-random-forest-in-python-using-scikit-learn-28d2aa77dd74\n",
    "- https://chrisalbon.com/machine_learning/trees_and_forests/feature_selection_using_random_forest/"
   ]
  },
  {
   "cell_type": "markdown",
   "metadata": {},
   "source": [
    "## Recommendations\n",
    "\n",
    "- Investigate user journey for each demographic (Guest vs Full Member) to detect drop-off points and troubleshoot.\n",
    "- Optimize the on-boarding experience that is tailored for different demographics.\n",
    " - Especially, for Personal Project sign-ups , we can prompt these users to create their own project so they will continue to use Asana even after finishing working on other's project.\n",
    " - Encourage Full Member to explore other premium features on Asana other than their cross-team projects so they can create their own documentation/plans for their individual or team work.\n",
    "- As the likelihood of adopted users for Google sign-ups are the highest, we should expand this fast and seamless sign-up experience more by partnering with Facebook, Linkedin, Outlook, etc. to accelerate more sign-up growth rate and user adoption.\n",
    "- Emails are not effective at improving user adoption, so we need to extend the analysis on other messaging platforms to test which other communication channels can do a better job at engaging users (push, in-app messaging, etc.)\n",
    "- Since the high growth rate in 2014 greatly impact the user engagement and adoption, we can expand the analysis to find key success indicators on user actions or product features that best pivot growth and adoption rate during 2014.\n",
    "- Regarding further exploration, I am keen on exploring (1) Does the size of members in an organization affect adoption rate? (2) Which actions do a team or an individual took that best indicate adoption rate?"
   ]
  }
 ],
 "metadata": {
  "kernelspec": {
   "display_name": "Python 3",
   "language": "python",
   "name": "python3"
  },
  "language_info": {
   "codemirror_mode": {
    "name": "ipython",
    "version": 3
   },
   "file_extension": ".py",
   "mimetype": "text/x-python",
   "name": "python",
   "nbconvert_exporter": "python",
   "pygments_lexer": "ipython3",
   "version": "3.7.4"
  }
 },
 "nbformat": 4,
 "nbformat_minor": 4
}
